{
  "cells": [
    {
      "cell_type": "markdown",
      "metadata": {
        "id": "H9wADwK78DCz"
      },
      "source": [
        "# Proyek Analisis Data: [Bike Sharing Dataset]\n",
        "- **Nama:** [Ida Bagus Gilang Parayoga]\n",
        "- **Email:** [gparayoga@gmail.com]\n",
        "- **ID Dicoding:** [ibgilang]"
      ]
    },
    {
      "cell_type": "markdown",
      "metadata": {
        "id": "eE0raob58DC0"
      },
      "source": [
        "## Menentukan Pertanyaan Bisnis"
      ]
    },
    {
      "cell_type": "markdown",
      "metadata": {
        "id": "GmQeQ5YF8DC0"
      },
      "source": [
        "- Berapa total pelanggan yang menyewa sepeda di tiap musimnya?\n",
        "- Bagaimana trend penjualan sistem sewa sepeda dalam beberapa tahun ini?\n",
        "- Berapa jumlah perbandingan dari pelanggan yang registrasi dengan yang casual?"
      ]
    },
    {
      "cell_type": "markdown",
      "metadata": {
        "id": "H-z4QGlO8DC1"
      },
      "source": [
        "## Import Semua Packages/Library yang Digunakan"
      ]
    },
    {
      "cell_type": "code",
      "execution_count": 3,
      "metadata": {
        "id": "FVYwaObI8DC1"
      },
      "outputs": [],
      "source": [
        "import numpy as np\n",
        "import pandas as pd\n",
        "import matplotlib.pyplot as plt\n",
        "import seaborn as sns"
      ]
    },
    {
      "cell_type": "markdown",
      "metadata": {
        "id": "h_Sh51Xy8DC1"
      },
      "source": [
        "## Data Wrangling"
      ]
    },
    {
      "cell_type": "markdown",
      "metadata": {
        "id": "sXU2GBYu8DC1"
      },
      "source": [
        "### Gathering Data"
      ]
    },
    {
      "cell_type": "code",
      "execution_count": 4,
      "metadata": {
        "colab": {
          "base_uri": "https://localhost:8080/",
          "height": 207
        },
        "id": "zjCBk1BI8DC1",
        "outputId": "e36f92bb-00b9-4263-c37f-d84dfbf25981"
      },
      "outputs": [
        {
          "data": {
            "text/html": [
              "<div>\n",
              "<style scoped>\n",
              "    .dataframe tbody tr th:only-of-type {\n",
              "        vertical-align: middle;\n",
              "    }\n",
              "\n",
              "    .dataframe tbody tr th {\n",
              "        vertical-align: top;\n",
              "    }\n",
              "\n",
              "    .dataframe thead th {\n",
              "        text-align: right;\n",
              "    }\n",
              "</style>\n",
              "<table border=\"1\" class=\"dataframe\">\n",
              "  <thead>\n",
              "    <tr style=\"text-align: right;\">\n",
              "      <th></th>\n",
              "      <th>instant</th>\n",
              "      <th>dteday</th>\n",
              "      <th>season</th>\n",
              "      <th>yr</th>\n",
              "      <th>mnth</th>\n",
              "      <th>holiday</th>\n",
              "      <th>weekday</th>\n",
              "      <th>workingday</th>\n",
              "      <th>weathersit</th>\n",
              "      <th>temp</th>\n",
              "      <th>atemp</th>\n",
              "      <th>hum</th>\n",
              "      <th>windspeed</th>\n",
              "      <th>casual</th>\n",
              "      <th>registered</th>\n",
              "      <th>cnt</th>\n",
              "    </tr>\n",
              "  </thead>\n",
              "  <tbody>\n",
              "    <tr>\n",
              "      <th>0</th>\n",
              "      <td>1</td>\n",
              "      <td>2011-01-01</td>\n",
              "      <td>1</td>\n",
              "      <td>0</td>\n",
              "      <td>1</td>\n",
              "      <td>0</td>\n",
              "      <td>6</td>\n",
              "      <td>0</td>\n",
              "      <td>2</td>\n",
              "      <td>0.344167</td>\n",
              "      <td>0.363625</td>\n",
              "      <td>0.805833</td>\n",
              "      <td>0.160446</td>\n",
              "      <td>331</td>\n",
              "      <td>654</td>\n",
              "      <td>985</td>\n",
              "    </tr>\n",
              "    <tr>\n",
              "      <th>1</th>\n",
              "      <td>2</td>\n",
              "      <td>2011-01-02</td>\n",
              "      <td>1</td>\n",
              "      <td>0</td>\n",
              "      <td>1</td>\n",
              "      <td>0</td>\n",
              "      <td>0</td>\n",
              "      <td>0</td>\n",
              "      <td>2</td>\n",
              "      <td>0.363478</td>\n",
              "      <td>0.353739</td>\n",
              "      <td>0.696087</td>\n",
              "      <td>0.248539</td>\n",
              "      <td>131</td>\n",
              "      <td>670</td>\n",
              "      <td>801</td>\n",
              "    </tr>\n",
              "    <tr>\n",
              "      <th>2</th>\n",
              "      <td>3</td>\n",
              "      <td>2011-01-03</td>\n",
              "      <td>1</td>\n",
              "      <td>0</td>\n",
              "      <td>1</td>\n",
              "      <td>0</td>\n",
              "      <td>1</td>\n",
              "      <td>1</td>\n",
              "      <td>1</td>\n",
              "      <td>0.196364</td>\n",
              "      <td>0.189405</td>\n",
              "      <td>0.437273</td>\n",
              "      <td>0.248309</td>\n",
              "      <td>120</td>\n",
              "      <td>1229</td>\n",
              "      <td>1349</td>\n",
              "    </tr>\n",
              "    <tr>\n",
              "      <th>3</th>\n",
              "      <td>4</td>\n",
              "      <td>2011-01-04</td>\n",
              "      <td>1</td>\n",
              "      <td>0</td>\n",
              "      <td>1</td>\n",
              "      <td>0</td>\n",
              "      <td>2</td>\n",
              "      <td>1</td>\n",
              "      <td>1</td>\n",
              "      <td>0.200000</td>\n",
              "      <td>0.212122</td>\n",
              "      <td>0.590435</td>\n",
              "      <td>0.160296</td>\n",
              "      <td>108</td>\n",
              "      <td>1454</td>\n",
              "      <td>1562</td>\n",
              "    </tr>\n",
              "    <tr>\n",
              "      <th>4</th>\n",
              "      <td>5</td>\n",
              "      <td>2011-01-05</td>\n",
              "      <td>1</td>\n",
              "      <td>0</td>\n",
              "      <td>1</td>\n",
              "      <td>0</td>\n",
              "      <td>3</td>\n",
              "      <td>1</td>\n",
              "      <td>1</td>\n",
              "      <td>0.226957</td>\n",
              "      <td>0.229270</td>\n",
              "      <td>0.436957</td>\n",
              "      <td>0.186900</td>\n",
              "      <td>82</td>\n",
              "      <td>1518</td>\n",
              "      <td>1600</td>\n",
              "    </tr>\n",
              "  </tbody>\n",
              "</table>\n",
              "</div>"
            ],
            "text/plain": [
              "   instant      dteday  season  yr  mnth  holiday  weekday  workingday  \\\n",
              "0        1  2011-01-01       1   0     1        0        6           0   \n",
              "1        2  2011-01-02       1   0     1        0        0           0   \n",
              "2        3  2011-01-03       1   0     1        0        1           1   \n",
              "3        4  2011-01-04       1   0     1        0        2           1   \n",
              "4        5  2011-01-05       1   0     1        0        3           1   \n",
              "\n",
              "   weathersit      temp     atemp       hum  windspeed  casual  registered  \\\n",
              "0           2  0.344167  0.363625  0.805833   0.160446     331         654   \n",
              "1           2  0.363478  0.353739  0.696087   0.248539     131         670   \n",
              "2           1  0.196364  0.189405  0.437273   0.248309     120        1229   \n",
              "3           1  0.200000  0.212122  0.590435   0.160296     108        1454   \n",
              "4           1  0.226957  0.229270  0.436957   0.186900      82        1518   \n",
              "\n",
              "    cnt  \n",
              "0   985  \n",
              "1   801  \n",
              "2  1349  \n",
              "3  1562  \n",
              "4  1600  "
            ]
          },
          "execution_count": 4,
          "metadata": {},
          "output_type": "execute_result"
        }
      ],
      "source": [
        "\n",
        "\n",
        "# Memuat tabel hari\n",
        "hari_df = pd.read_csv(\"data/day.csv\")\n",
        "hari_df.head()\n",
        "\n"
      ]
    },
    {
      "cell_type": "code",
      "execution_count": 5,
      "metadata": {
        "colab": {
          "base_uri": "https://localhost:8080/",
          "height": 207
        },
        "id": "IPvbhde1md7v",
        "outputId": "8e80d3fd-1e24-4460-c85a-b5fabedc28be"
      },
      "outputs": [
        {
          "data": {
            "text/html": [
              "<div>\n",
              "<style scoped>\n",
              "    .dataframe tbody tr th:only-of-type {\n",
              "        vertical-align: middle;\n",
              "    }\n",
              "\n",
              "    .dataframe tbody tr th {\n",
              "        vertical-align: top;\n",
              "    }\n",
              "\n",
              "    .dataframe thead th {\n",
              "        text-align: right;\n",
              "    }\n",
              "</style>\n",
              "<table border=\"1\" class=\"dataframe\">\n",
              "  <thead>\n",
              "    <tr style=\"text-align: right;\">\n",
              "      <th></th>\n",
              "      <th>instant</th>\n",
              "      <th>dteday</th>\n",
              "      <th>season</th>\n",
              "      <th>yr</th>\n",
              "      <th>mnth</th>\n",
              "      <th>hr</th>\n",
              "      <th>holiday</th>\n",
              "      <th>weekday</th>\n",
              "      <th>workingday</th>\n",
              "      <th>weathersit</th>\n",
              "      <th>temp</th>\n",
              "      <th>atemp</th>\n",
              "      <th>hum</th>\n",
              "      <th>windspeed</th>\n",
              "      <th>casual</th>\n",
              "      <th>registered</th>\n",
              "      <th>cnt</th>\n",
              "    </tr>\n",
              "  </thead>\n",
              "  <tbody>\n",
              "    <tr>\n",
              "      <th>0</th>\n",
              "      <td>1</td>\n",
              "      <td>2011-01-01</td>\n",
              "      <td>1</td>\n",
              "      <td>0</td>\n",
              "      <td>1</td>\n",
              "      <td>0</td>\n",
              "      <td>0</td>\n",
              "      <td>6</td>\n",
              "      <td>0</td>\n",
              "      <td>1</td>\n",
              "      <td>0.24</td>\n",
              "      <td>0.2879</td>\n",
              "      <td>0.81</td>\n",
              "      <td>0.0</td>\n",
              "      <td>3</td>\n",
              "      <td>13</td>\n",
              "      <td>16</td>\n",
              "    </tr>\n",
              "    <tr>\n",
              "      <th>1</th>\n",
              "      <td>2</td>\n",
              "      <td>2011-01-01</td>\n",
              "      <td>1</td>\n",
              "      <td>0</td>\n",
              "      <td>1</td>\n",
              "      <td>1</td>\n",
              "      <td>0</td>\n",
              "      <td>6</td>\n",
              "      <td>0</td>\n",
              "      <td>1</td>\n",
              "      <td>0.22</td>\n",
              "      <td>0.2727</td>\n",
              "      <td>0.80</td>\n",
              "      <td>0.0</td>\n",
              "      <td>8</td>\n",
              "      <td>32</td>\n",
              "      <td>40</td>\n",
              "    </tr>\n",
              "    <tr>\n",
              "      <th>2</th>\n",
              "      <td>3</td>\n",
              "      <td>2011-01-01</td>\n",
              "      <td>1</td>\n",
              "      <td>0</td>\n",
              "      <td>1</td>\n",
              "      <td>2</td>\n",
              "      <td>0</td>\n",
              "      <td>6</td>\n",
              "      <td>0</td>\n",
              "      <td>1</td>\n",
              "      <td>0.22</td>\n",
              "      <td>0.2727</td>\n",
              "      <td>0.80</td>\n",
              "      <td>0.0</td>\n",
              "      <td>5</td>\n",
              "      <td>27</td>\n",
              "      <td>32</td>\n",
              "    </tr>\n",
              "    <tr>\n",
              "      <th>3</th>\n",
              "      <td>4</td>\n",
              "      <td>2011-01-01</td>\n",
              "      <td>1</td>\n",
              "      <td>0</td>\n",
              "      <td>1</td>\n",
              "      <td>3</td>\n",
              "      <td>0</td>\n",
              "      <td>6</td>\n",
              "      <td>0</td>\n",
              "      <td>1</td>\n",
              "      <td>0.24</td>\n",
              "      <td>0.2879</td>\n",
              "      <td>0.75</td>\n",
              "      <td>0.0</td>\n",
              "      <td>3</td>\n",
              "      <td>10</td>\n",
              "      <td>13</td>\n",
              "    </tr>\n",
              "    <tr>\n",
              "      <th>4</th>\n",
              "      <td>5</td>\n",
              "      <td>2011-01-01</td>\n",
              "      <td>1</td>\n",
              "      <td>0</td>\n",
              "      <td>1</td>\n",
              "      <td>4</td>\n",
              "      <td>0</td>\n",
              "      <td>6</td>\n",
              "      <td>0</td>\n",
              "      <td>1</td>\n",
              "      <td>0.24</td>\n",
              "      <td>0.2879</td>\n",
              "      <td>0.75</td>\n",
              "      <td>0.0</td>\n",
              "      <td>0</td>\n",
              "      <td>1</td>\n",
              "      <td>1</td>\n",
              "    </tr>\n",
              "  </tbody>\n",
              "</table>\n",
              "</div>"
            ],
            "text/plain": [
              "   instant      dteday  season  yr  mnth  hr  holiday  weekday  workingday  \\\n",
              "0        1  2011-01-01       1   0     1   0        0        6           0   \n",
              "1        2  2011-01-01       1   0     1   1        0        6           0   \n",
              "2        3  2011-01-01       1   0     1   2        0        6           0   \n",
              "3        4  2011-01-01       1   0     1   3        0        6           0   \n",
              "4        5  2011-01-01       1   0     1   4        0        6           0   \n",
              "\n",
              "   weathersit  temp   atemp   hum  windspeed  casual  registered  cnt  \n",
              "0           1  0.24  0.2879  0.81        0.0       3          13   16  \n",
              "1           1  0.22  0.2727  0.80        0.0       8          32   40  \n",
              "2           1  0.22  0.2727  0.80        0.0       5          27   32  \n",
              "3           1  0.24  0.2879  0.75        0.0       3          10   13  \n",
              "4           1  0.24  0.2879  0.75        0.0       0           1    1  "
            ]
          },
          "execution_count": 5,
          "metadata": {},
          "output_type": "execute_result"
        }
      ],
      "source": [
        "# Memuat tabel jam\n",
        "jam_df = pd.read_csv(\"data/hour.csv\")\n",
        "jam_df.head()"
      ]
    },
    {
      "cell_type": "markdown",
      "metadata": {
        "id": "MMi6xGaDkbCi"
      },
      "source": [
        "Memuat tabel hari dan jam dengan fungsi pd.read_csv, disini bisa kita lihat kolom yang ada pada kedua tabel ini"
      ]
    },
    {
      "cell_type": "markdown",
      "metadata": {
        "id": "FHSiqaZp8DC1"
      },
      "source": [
        "### Assessing Data"
      ]
    },
    {
      "cell_type": "code",
      "execution_count": 6,
      "metadata": {
        "colab": {
          "base_uri": "https://localhost:8080/"
        },
        "id": "ax-3tEjc9Cj1",
        "outputId": "0f8e74ee-5290-4b24-8adc-7a78b22efd1f"
      },
      "outputs": [
        {
          "name": "stdout",
          "output_type": "stream",
          "text": [
            "<class 'pandas.core.frame.DataFrame'>\n",
            "RangeIndex: 731 entries, 0 to 730\n",
            "Data columns (total 16 columns):\n",
            " #   Column      Non-Null Count  Dtype  \n",
            "---  ------      --------------  -----  \n",
            " 0   instant     731 non-null    int64  \n",
            " 1   dteday      731 non-null    object \n",
            " 2   season      731 non-null    int64  \n",
            " 3   yr          731 non-null    int64  \n",
            " 4   mnth        731 non-null    int64  \n",
            " 5   holiday     731 non-null    int64  \n",
            " 6   weekday     731 non-null    int64  \n",
            " 7   workingday  731 non-null    int64  \n",
            " 8   weathersit  731 non-null    int64  \n",
            " 9   temp        731 non-null    float64\n",
            " 10  atemp       731 non-null    float64\n",
            " 11  hum         731 non-null    float64\n",
            " 12  windspeed   731 non-null    float64\n",
            " 13  casual      731 non-null    int64  \n",
            " 14  registered  731 non-null    int64  \n",
            " 15  cnt         731 non-null    int64  \n",
            "dtypes: float64(4), int64(11), object(1)\n",
            "memory usage: 91.5+ KB\n",
            "<class 'pandas.core.frame.DataFrame'>\n",
            "RangeIndex: 17379 entries, 0 to 17378\n",
            "Data columns (total 17 columns):\n",
            " #   Column      Non-Null Count  Dtype  \n",
            "---  ------      --------------  -----  \n",
            " 0   instant     17379 non-null  int64  \n",
            " 1   dteday      17379 non-null  object \n",
            " 2   season      17379 non-null  int64  \n",
            " 3   yr          17379 non-null  int64  \n",
            " 4   mnth        17379 non-null  int64  \n",
            " 5   hr          17379 non-null  int64  \n",
            " 6   holiday     17379 non-null  int64  \n",
            " 7   weekday     17379 non-null  int64  \n",
            " 8   workingday  17379 non-null  int64  \n",
            " 9   weathersit  17379 non-null  int64  \n",
            " 10  temp        17379 non-null  float64\n",
            " 11  atemp       17379 non-null  float64\n",
            " 12  hum         17379 non-null  float64\n",
            " 13  windspeed   17379 non-null  float64\n",
            " 14  casual      17379 non-null  int64  \n",
            " 15  registered  17379 non-null  int64  \n",
            " 16  cnt         17379 non-null  int64  \n",
            "dtypes: float64(4), int64(12), object(1)\n",
            "memory usage: 2.3+ MB\n"
          ]
        }
      ],
      "source": [
        "# memeriksa kolom serta tipe data yang ada pada tabel hari dan jam\n",
        "hari_df.info()\n",
        "jam_df.info()"
      ]
    },
    {
      "cell_type": "code",
      "execution_count": 7,
      "metadata": {
        "colab": {
          "base_uri": "https://localhost:8080/",
          "height": 586
        },
        "id": "cFRdnE5EnHQn",
        "outputId": "7ec4ae83-51da-46e2-fac1-4950873df95f"
      },
      "outputs": [
        {
          "data": {
            "text/plain": [
              "instant       0\n",
              "dteday        0\n",
              "season        0\n",
              "yr            0\n",
              "mnth          0\n",
              "holiday       0\n",
              "weekday       0\n",
              "workingday    0\n",
              "weathersit    0\n",
              "temp          0\n",
              "atemp         0\n",
              "hum           0\n",
              "windspeed     0\n",
              "casual        0\n",
              "registered    0\n",
              "cnt           0\n",
              "dtype: int64"
            ]
          },
          "execution_count": 7,
          "metadata": {},
          "output_type": "execute_result"
        }
      ],
      "source": [
        "\n",
        "# mengecek tabel hari dan jam apakah ada missing value\n",
        "hari_df.isna().sum()"
      ]
    },
    {
      "cell_type": "code",
      "execution_count": 8,
      "metadata": {
        "colab": {
          "base_uri": "https://localhost:8080/",
          "height": 618
        },
        "id": "0IVPaaeYng1H",
        "outputId": "d009e7b4-c636-434c-d6cf-e6b5dc265f04"
      },
      "outputs": [
        {
          "data": {
            "text/plain": [
              "instant       0\n",
              "dteday        0\n",
              "season        0\n",
              "yr            0\n",
              "mnth          0\n",
              "hr            0\n",
              "holiday       0\n",
              "weekday       0\n",
              "workingday    0\n",
              "weathersit    0\n",
              "temp          0\n",
              "atemp         0\n",
              "hum           0\n",
              "windspeed     0\n",
              "casual        0\n",
              "registered    0\n",
              "cnt           0\n",
              "dtype: int64"
            ]
          },
          "execution_count": 8,
          "metadata": {},
          "output_type": "execute_result"
        }
      ],
      "source": [
        "jam_df.isna().sum()"
      ]
    },
    {
      "cell_type": "markdown",
      "metadata": {
        "id": "7dtxhAPrkhPL"
      },
      "source": [
        "**Insight:**\n",
        "- dari hasil run code diatas , kita bisa tahu bahwa di tabel hari dan jam tidak ada kolom yg kosong"
      ]
    },
    {
      "cell_type": "code",
      "execution_count": 9,
      "metadata": {
        "colab": {
          "base_uri": "https://localhost:8080/"
        },
        "id": "PQRbR4KboTfm",
        "outputId": "4da36f8f-8906-49fe-bc97-00e5b8ce7759"
      },
      "outputs": [
        {
          "name": "stdout",
          "output_type": "stream",
          "text": [
            "Jumlah duplikasi:  0\n",
            "Jumlah duplikasi:  0\n"
          ]
        }
      ],
      "source": [
        "# memeriksa apakah ada baris yg duplikat didalam tabel hari dan jam\n",
        "print(\"Jumlah duplikasi: \", hari_df.duplicated().sum())\n",
        "print(\"Jumlah duplikasi: \", jam_df.duplicated().sum())\n"
      ]
    },
    {
      "cell_type": "markdown",
      "metadata": {
        "id": "2cQXnp7focZB"
      },
      "source": [
        "- dari hasil run code diatas, kita tahu bahwa tidak ada baris yang duplikat pada tabel hari maupun jam."
      ]
    },
    {
      "cell_type": "code",
      "execution_count": 10,
      "metadata": {
        "colab": {
          "base_uri": "https://localhost:8080/",
          "height": 301
        },
        "id": "lILh4SuEuJMG",
        "outputId": "63c83fdc-8c29-46f2-d052-aceab9fb39e4"
      },
      "outputs": [
        {
          "data": {
            "text/html": [
              "<div>\n",
              "<style scoped>\n",
              "    .dataframe tbody tr th:only-of-type {\n",
              "        vertical-align: middle;\n",
              "    }\n",
              "\n",
              "    .dataframe tbody tr th {\n",
              "        vertical-align: top;\n",
              "    }\n",
              "\n",
              "    .dataframe thead th {\n",
              "        text-align: right;\n",
              "    }\n",
              "</style>\n",
              "<table border=\"1\" class=\"dataframe\">\n",
              "  <thead>\n",
              "    <tr style=\"text-align: right;\">\n",
              "      <th></th>\n",
              "      <th>instant</th>\n",
              "      <th>season</th>\n",
              "      <th>yr</th>\n",
              "      <th>mnth</th>\n",
              "      <th>hr</th>\n",
              "      <th>holiday</th>\n",
              "      <th>weekday</th>\n",
              "      <th>workingday</th>\n",
              "      <th>weathersit</th>\n",
              "      <th>temp</th>\n",
              "      <th>atemp</th>\n",
              "      <th>hum</th>\n",
              "      <th>windspeed</th>\n",
              "      <th>casual</th>\n",
              "      <th>registered</th>\n",
              "      <th>cnt</th>\n",
              "    </tr>\n",
              "  </thead>\n",
              "  <tbody>\n",
              "    <tr>\n",
              "      <th>count</th>\n",
              "      <td>17379.0000</td>\n",
              "      <td>17379.000000</td>\n",
              "      <td>17379.000000</td>\n",
              "      <td>17379.000000</td>\n",
              "      <td>17379.000000</td>\n",
              "      <td>17379.000000</td>\n",
              "      <td>17379.000000</td>\n",
              "      <td>17379.000000</td>\n",
              "      <td>17379.000000</td>\n",
              "      <td>17379.000000</td>\n",
              "      <td>17379.000000</td>\n",
              "      <td>17379.000000</td>\n",
              "      <td>17379.000000</td>\n",
              "      <td>17379.000000</td>\n",
              "      <td>17379.000000</td>\n",
              "      <td>17379.000000</td>\n",
              "    </tr>\n",
              "    <tr>\n",
              "      <th>mean</th>\n",
              "      <td>8690.0000</td>\n",
              "      <td>2.501640</td>\n",
              "      <td>0.502561</td>\n",
              "      <td>6.537775</td>\n",
              "      <td>11.546752</td>\n",
              "      <td>0.028770</td>\n",
              "      <td>3.003683</td>\n",
              "      <td>0.682721</td>\n",
              "      <td>1.425283</td>\n",
              "      <td>0.496987</td>\n",
              "      <td>0.475775</td>\n",
              "      <td>0.627229</td>\n",
              "      <td>0.190098</td>\n",
              "      <td>35.676218</td>\n",
              "      <td>153.786869</td>\n",
              "      <td>189.463088</td>\n",
              "    </tr>\n",
              "    <tr>\n",
              "      <th>std</th>\n",
              "      <td>5017.0295</td>\n",
              "      <td>1.106918</td>\n",
              "      <td>0.500008</td>\n",
              "      <td>3.438776</td>\n",
              "      <td>6.914405</td>\n",
              "      <td>0.167165</td>\n",
              "      <td>2.005771</td>\n",
              "      <td>0.465431</td>\n",
              "      <td>0.639357</td>\n",
              "      <td>0.192556</td>\n",
              "      <td>0.171850</td>\n",
              "      <td>0.192930</td>\n",
              "      <td>0.122340</td>\n",
              "      <td>49.305030</td>\n",
              "      <td>151.357286</td>\n",
              "      <td>181.387599</td>\n",
              "    </tr>\n",
              "    <tr>\n",
              "      <th>min</th>\n",
              "      <td>1.0000</td>\n",
              "      <td>1.000000</td>\n",
              "      <td>0.000000</td>\n",
              "      <td>1.000000</td>\n",
              "      <td>0.000000</td>\n",
              "      <td>0.000000</td>\n",
              "      <td>0.000000</td>\n",
              "      <td>0.000000</td>\n",
              "      <td>1.000000</td>\n",
              "      <td>0.020000</td>\n",
              "      <td>0.000000</td>\n",
              "      <td>0.000000</td>\n",
              "      <td>0.000000</td>\n",
              "      <td>0.000000</td>\n",
              "      <td>0.000000</td>\n",
              "      <td>1.000000</td>\n",
              "    </tr>\n",
              "    <tr>\n",
              "      <th>25%</th>\n",
              "      <td>4345.5000</td>\n",
              "      <td>2.000000</td>\n",
              "      <td>0.000000</td>\n",
              "      <td>4.000000</td>\n",
              "      <td>6.000000</td>\n",
              "      <td>0.000000</td>\n",
              "      <td>1.000000</td>\n",
              "      <td>0.000000</td>\n",
              "      <td>1.000000</td>\n",
              "      <td>0.340000</td>\n",
              "      <td>0.333300</td>\n",
              "      <td>0.480000</td>\n",
              "      <td>0.104500</td>\n",
              "      <td>4.000000</td>\n",
              "      <td>34.000000</td>\n",
              "      <td>40.000000</td>\n",
              "    </tr>\n",
              "    <tr>\n",
              "      <th>50%</th>\n",
              "      <td>8690.0000</td>\n",
              "      <td>3.000000</td>\n",
              "      <td>1.000000</td>\n",
              "      <td>7.000000</td>\n",
              "      <td>12.000000</td>\n",
              "      <td>0.000000</td>\n",
              "      <td>3.000000</td>\n",
              "      <td>1.000000</td>\n",
              "      <td>1.000000</td>\n",
              "      <td>0.500000</td>\n",
              "      <td>0.484800</td>\n",
              "      <td>0.630000</td>\n",
              "      <td>0.194000</td>\n",
              "      <td>17.000000</td>\n",
              "      <td>115.000000</td>\n",
              "      <td>142.000000</td>\n",
              "    </tr>\n",
              "    <tr>\n",
              "      <th>75%</th>\n",
              "      <td>13034.5000</td>\n",
              "      <td>3.000000</td>\n",
              "      <td>1.000000</td>\n",
              "      <td>10.000000</td>\n",
              "      <td>18.000000</td>\n",
              "      <td>0.000000</td>\n",
              "      <td>5.000000</td>\n",
              "      <td>1.000000</td>\n",
              "      <td>2.000000</td>\n",
              "      <td>0.660000</td>\n",
              "      <td>0.621200</td>\n",
              "      <td>0.780000</td>\n",
              "      <td>0.253700</td>\n",
              "      <td>48.000000</td>\n",
              "      <td>220.000000</td>\n",
              "      <td>281.000000</td>\n",
              "    </tr>\n",
              "    <tr>\n",
              "      <th>max</th>\n",
              "      <td>17379.0000</td>\n",
              "      <td>4.000000</td>\n",
              "      <td>1.000000</td>\n",
              "      <td>12.000000</td>\n",
              "      <td>23.000000</td>\n",
              "      <td>1.000000</td>\n",
              "      <td>6.000000</td>\n",
              "      <td>1.000000</td>\n",
              "      <td>4.000000</td>\n",
              "      <td>1.000000</td>\n",
              "      <td>1.000000</td>\n",
              "      <td>1.000000</td>\n",
              "      <td>0.850700</td>\n",
              "      <td>367.000000</td>\n",
              "      <td>886.000000</td>\n",
              "      <td>977.000000</td>\n",
              "    </tr>\n",
              "  </tbody>\n",
              "</table>\n",
              "</div>"
            ],
            "text/plain": [
              "          instant        season            yr          mnth            hr  \\\n",
              "count  17379.0000  17379.000000  17379.000000  17379.000000  17379.000000   \n",
              "mean    8690.0000      2.501640      0.502561      6.537775     11.546752   \n",
              "std     5017.0295      1.106918      0.500008      3.438776      6.914405   \n",
              "min        1.0000      1.000000      0.000000      1.000000      0.000000   \n",
              "25%     4345.5000      2.000000      0.000000      4.000000      6.000000   \n",
              "50%     8690.0000      3.000000      1.000000      7.000000     12.000000   \n",
              "75%    13034.5000      3.000000      1.000000     10.000000     18.000000   \n",
              "max    17379.0000      4.000000      1.000000     12.000000     23.000000   \n",
              "\n",
              "            holiday       weekday    workingday    weathersit          temp  \\\n",
              "count  17379.000000  17379.000000  17379.000000  17379.000000  17379.000000   \n",
              "mean       0.028770      3.003683      0.682721      1.425283      0.496987   \n",
              "std        0.167165      2.005771      0.465431      0.639357      0.192556   \n",
              "min        0.000000      0.000000      0.000000      1.000000      0.020000   \n",
              "25%        0.000000      1.000000      0.000000      1.000000      0.340000   \n",
              "50%        0.000000      3.000000      1.000000      1.000000      0.500000   \n",
              "75%        0.000000      5.000000      1.000000      2.000000      0.660000   \n",
              "max        1.000000      6.000000      1.000000      4.000000      1.000000   \n",
              "\n",
              "              atemp           hum     windspeed        casual    registered  \\\n",
              "count  17379.000000  17379.000000  17379.000000  17379.000000  17379.000000   \n",
              "mean       0.475775      0.627229      0.190098     35.676218    153.786869   \n",
              "std        0.171850      0.192930      0.122340     49.305030    151.357286   \n",
              "min        0.000000      0.000000      0.000000      0.000000      0.000000   \n",
              "25%        0.333300      0.480000      0.104500      4.000000     34.000000   \n",
              "50%        0.484800      0.630000      0.194000     17.000000    115.000000   \n",
              "75%        0.621200      0.780000      0.253700     48.000000    220.000000   \n",
              "max        1.000000      1.000000      0.850700    367.000000    886.000000   \n",
              "\n",
              "                cnt  \n",
              "count  17379.000000  \n",
              "mean     189.463088  \n",
              "std      181.387599  \n",
              "min        1.000000  \n",
              "25%       40.000000  \n",
              "50%      142.000000  \n",
              "75%      281.000000  \n",
              "max      977.000000  "
            ]
          },
          "execution_count": 10,
          "metadata": {},
          "output_type": "execute_result"
        }
      ],
      "source": [
        "hari_df.describe()\n",
        "jam_df.describe()"
      ]
    },
    {
      "cell_type": "markdown",
      "metadata": {
        "id": "zj4yQGVIuaiP"
      },
      "source": [
        "- hasil dari code diatas menunjukan bahwa tabel ini berisi 17379 baris,\n",
        "- mean 6,53 ( kolom mnth) yang artinya data ini memiliki rata rata dibulan jun/jul ,\n",
        "- mean 11.54 (kolom hr) yang artinya terdapat data pada pukul 11.54\n",
        "- std 49.3 (kolom casual) yang artinya ada banyak pelanggan tidak melakukan registrasi\n",
        "- min 0 (kolom hr) artinya ada jam dimana tidak ada orang yang menyewa sepeda"
      ]
    },
    {
      "cell_type": "markdown",
      "metadata": {
        "id": "EhN5R4hr8DC1"
      },
      "source": [
        "### Cleaning Data"
      ]
    },
    {
      "cell_type": "markdown",
      "metadata": {
        "id": "PSCK4fWOsFkz"
      },
      "source": [
        "\n",
        "-Dropping\n"
      ]
    },
    {
      "cell_type": "code",
      "execution_count": 11,
      "metadata": {
        "id": "jVnYpprE9Evz"
      },
      "outputs": [],
      "source": [
        "# kita akan menghapus kolom instant karena tidak akan digunakan\n",
        "hari_df.drop(['instant'], axis = 1, inplace= True)\n",
        "jam_df.drop(['instant'], axis = 1, inplace= True)\n"
      ]
    },
    {
      "cell_type": "markdown",
      "metadata": {},
      "source": [
        "-Mengubah tipe data"
      ]
    },
    {
      "cell_type": "code",
      "execution_count": 12,
      "metadata": {
        "id": "Z6Jdkr9lvMNw"
      },
      "outputs": [],
      "source": [
        "# mengubah tipe data dteday menjadi dari 'object' ke 'datetime'\n",
        "hari_df['dteday'] = pd.to_datetime(hari_df['dteday'])\n",
        "jam_df['dteday'] = pd.to_datetime(jam_df['dteday'])"
      ]
    },
    {
      "cell_type": "markdown",
      "metadata": {
        "id": "tVO_e3gb-gNv"
      },
      "source": [
        "-Mengubah beberapa kolom sesuai dengan kebutuhan (year, month, weather,season)"
      ]
    },
    {
      "cell_type": "code",
      "execution_count": 13,
      "metadata": {
        "id": "20Qz5J_h9Y3J"
      },
      "outputs": [],
      "source": [
        "# konversi month menjadi: 1:Jan, 2:Feb, 3:Mar, 4:Apr, 5:May, 6:Jun, 7:Jul, 8:Aug, 9:Sep, 10:Oct, 11:Nov, 12:Dec\n",
        "month_map = {\n",
        "    1: 'Jan', 2: 'Feb', 3: 'Mar', 4: 'Apr', 5: 'May', 6: 'Jun', 7: 'Jul',\n",
        "    8: 'Aug', 9: 'Sep', 10: 'Oct', 11: 'Nov', 12: 'Dec'\n",
        "}\n",
        "\n",
        "hari_df['mnth'] = hari_df['mnth'].map(month_map)\n",
        "jam_df['mnth'] = jam_df['mnth'].map(month_map)"
      ]
    },
    {
      "cell_type": "code",
      "execution_count": null,
      "metadata": {
        "id": "soxoIR-A8QWY"
      },
      "outputs": [],
      "source": [
        "# mengubah year dimana 0:2011, 1:2012\n",
        "hari_df.yr.replace((0,1), ('2011','2012'), inplace=True)\n",
        "jam_df.yr.replace((0,1), ('2011','2012'), inplace=True)"
      ]
    },
    {
      "cell_type": "code",
      "execution_count": null,
      "metadata": {
        "id": "mQ-msTXd-TCF"
      },
      "outputs": [],
      "source": [
        "# mengubah season menjadi: 1:Spring, 2:Summer, 3:Fall, 4:Winter\n",
        "hari_df.season.replace((1,2,3,4), ('Spring','Summer','Fall','Winter'), inplace=True)\n",
        "jam_df.season.replace((1,2,3,4), ('Spring','Summer','Fall','Winter'), inplace=True)"
      ]
    },
    {
      "cell_type": "code",
      "execution_count": null,
      "metadata": {
        "id": "2BjSRSTjKuT4"
      },
      "outputs": [],
      "source": [
        "# mengubah weathersit menjadi: 1:Clear, 2:Misty, 3:Light_RainSnow 4:Heavy_RainSnow\n",
        "hari_df.weathersit.replace((1,2,3,4), ('Clear','Misty','Light_rainsnow','Heavy_rainsnow'), inplace=True)\n",
        "jam_df.weathersit.replace((1,2,3,4), ('Clear','Misty','Light_rainsnow','Heavy_rainsnow'), inplace=True)"
      ]
    },
    {
      "cell_type": "code",
      "execution_count": null,
      "metadata": {},
      "outputs": [],
      "source": [
        "# konversi one_of_week menjadi: 0:Sun, 1:Mon, 2:Tue, 3:Wed, 4:Thu, 5:Fri, 6:Sat\n",
        "hari_df.weekday.replace((0,1,2,3,4,5,6), ('Sunday','Monday','Tuesday','Wednesday','Thursday','Friday','Saturday'), inplace=True)\n",
        "jam_df.weekday.replace((0,1,2,3,4,5,6), ('Sunday','Monday','Tuesday','Wednesday','Thursday','Friday','Saturday'), inplace=True)"
      ]
    },
    {
      "cell_type": "code",
      "execution_count": 18,
      "metadata": {},
      "outputs": [],
      "source": [
        "# Menghitung Humidity\n",
        "hari_df['hum'] = hari_df['hum']*100\n",
        "jam_df['hum'] = jam_df['hum']*100"
      ]
    },
    {
      "cell_type": "code",
      "execution_count": 19,
      "metadata": {
        "colab": {
          "base_uri": "https://localhost:8080/"
        },
        "id": "n2iILpZmvxVC",
        "outputId": "63fc9cb4-bdd7-48b8-bcc3-8df5132fa960"
      },
      "outputs": [
        {
          "name": "stdout",
          "output_type": "stream",
          "text": [
            "<class 'pandas.core.frame.DataFrame'>\n",
            "RangeIndex: 731 entries, 0 to 730\n",
            "Data columns (total 15 columns):\n",
            " #   Column      Non-Null Count  Dtype         \n",
            "---  ------      --------------  -----         \n",
            " 0   dteday      731 non-null    datetime64[ns]\n",
            " 1   season      731 non-null    object        \n",
            " 2   yr          731 non-null    object        \n",
            " 3   mnth        731 non-null    object        \n",
            " 4   holiday     731 non-null    int64         \n",
            " 5   weekday     731 non-null    object        \n",
            " 6   workingday  731 non-null    int64         \n",
            " 7   weathersit  731 non-null    object        \n",
            " 8   temp        731 non-null    float64       \n",
            " 9   atemp       731 non-null    float64       \n",
            " 10  hum         731 non-null    float64       \n",
            " 11  windspeed   731 non-null    float64       \n",
            " 12  casual      731 non-null    int64         \n",
            " 13  registered  731 non-null    int64         \n",
            " 14  cnt         731 non-null    int64         \n",
            "dtypes: datetime64[ns](1), float64(4), int64(5), object(5)\n",
            "memory usage: 85.8+ KB\n",
            "<class 'pandas.core.frame.DataFrame'>\n",
            "RangeIndex: 17379 entries, 0 to 17378\n",
            "Data columns (total 16 columns):\n",
            " #   Column      Non-Null Count  Dtype         \n",
            "---  ------      --------------  -----         \n",
            " 0   dteday      17379 non-null  datetime64[ns]\n",
            " 1   season      17379 non-null  object        \n",
            " 2   yr          17379 non-null  object        \n",
            " 3   mnth        17379 non-null  object        \n",
            " 4   hr          17379 non-null  int64         \n",
            " 5   holiday     17379 non-null  int64         \n",
            " 6   weekday     17379 non-null  object        \n",
            " 7   workingday  17379 non-null  int64         \n",
            " 8   weathersit  17379 non-null  object        \n",
            " 9   temp        17379 non-null  float64       \n",
            " 10  atemp       17379 non-null  float64       \n",
            " 11  hum         17379 non-null  float64       \n",
            " 12  windspeed   17379 non-null  float64       \n",
            " 13  casual      17379 non-null  int64         \n",
            " 14  registered  17379 non-null  int64         \n",
            " 15  cnt         17379 non-null  int64         \n",
            "dtypes: datetime64[ns](1), float64(4), int64(6), object(5)\n",
            "memory usage: 2.1+ MB\n"
          ]
        }
      ],
      "source": [
        "hari_df.info()\n",
        "jam_df.info()"
      ]
    },
    {
      "cell_type": "markdown",
      "metadata": {
        "id": "Q_5ejIqckiSP"
      },
      "source": [
        "- kode diatas berfungsi untuk mengecek apakah mengubah tipe data pada tabel hari dan jam setelah di rubah"
      ]
    },
    {
      "cell_type": "code",
      "execution_count": 20,
      "metadata": {},
      "outputs": [],
      "source": [
        "# Membuat kolom baru kategori hari\n",
        "weekday = [\"Monday\", \"Tuesday\", \"Wednesday\", \"Thursday\", \"Friday\", \"Saturday\", \"Sunday\"]\n",
        "def kategori_hari(weekday):\n",
        "    if weekday in [\"Saturday\", \"Sunday\"]:\n",
        "        return \"weekend\"\n",
        "    else: \n",
        "        return \"weekdays\"\n",
        "\n",
        "jam_df[\"kategori_hari\"] = jam_df[\"weekday\"].apply(kategori_hari)\n",
        "hari_df[\"kategori_hari\"] = hari_df[\"weekday\"].apply(kategori_hari)"
      ]
    },
    {
      "cell_type": "code",
      "execution_count": 21,
      "metadata": {},
      "outputs": [],
      "source": [
        "def kelembaban(humidity):\n",
        "    if humidity < 45:\n",
        "        return \"Terlalu kering\"\n",
        "    elif humidity >= 45 and humidity < 65:\n",
        "        return \"Ideal\"\n",
        "    else:\n",
        "        return \"Terlalu Lembab\"\n",
        "\n",
        "jam_df[\"humidity_category\"] = jam_df[\"hum\"].apply(kelembaban)\n",
        "hari_df[\"humidity_category\"] = hari_df[\"hum\"].apply(kelembaban)"
      ]
    },
    {
      "cell_type": "markdown",
      "metadata": {},
      "source": [
        "\n",
        "kemsimpulan dari kode yang sudah dijalankan diatas\n",
        "-kita sudah menghapus kolom instant\n",
        "-merubah tipe data pada kolom dteday sudah berubah menjadi datetime \n",
        "-sudah mengganti nama kolom sesuai kebutuhan \n",
        "-sudah mengubah isi kolom dan membuat kolom baru yaitu kategori hari\n"
      ]
    },
    {
      "cell_type": "code",
      "execution_count": 22,
      "metadata": {},
      "outputs": [],
      "source": [
        "#menyimpan data yang sudah dimodifikasi\n",
        "hari_df.to_csv(\"dashboard/data_hari.csv\", index=False)\n",
        "jam_df.to_csv(\"dashboard/data_jam.csv\", index=False)"
      ]
    },
    {
      "cell_type": "markdown",
      "metadata": {
        "id": "gp-Y6wU38DC1"
      },
      "source": [
        "## Exploratory Data Analysis (EDA)"
      ]
    },
    {
      "cell_type": "markdown",
      "metadata": {
        "id": "MW7WF2kr8DC1"
      },
      "source": [
        "### Explore data hari"
      ]
    },
    {
      "cell_type": "code",
      "execution_count": 23,
      "metadata": {
        "colab": {
          "base_uri": "https://localhost:8080/",
          "height": 395
        },
        "id": "e9CQCZjk8DC2",
        "outputId": "75805fad-3458-4b15-92bc-3df95edacfe0"
      },
      "outputs": [
        {
          "data": {
            "text/html": [
              "<div>\n",
              "<style scoped>\n",
              "    .dataframe tbody tr th:only-of-type {\n",
              "        vertical-align: middle;\n",
              "    }\n",
              "\n",
              "    .dataframe tbody tr th {\n",
              "        vertical-align: top;\n",
              "    }\n",
              "\n",
              "    .dataframe thead th {\n",
              "        text-align: right;\n",
              "    }\n",
              "</style>\n",
              "<table border=\"1\" class=\"dataframe\">\n",
              "  <thead>\n",
              "    <tr style=\"text-align: right;\">\n",
              "      <th></th>\n",
              "      <th>dteday</th>\n",
              "      <th>season</th>\n",
              "      <th>yr</th>\n",
              "      <th>mnth</th>\n",
              "      <th>holiday</th>\n",
              "      <th>weekday</th>\n",
              "      <th>workingday</th>\n",
              "      <th>weathersit</th>\n",
              "      <th>temp</th>\n",
              "      <th>atemp</th>\n",
              "      <th>hum</th>\n",
              "      <th>windspeed</th>\n",
              "      <th>casual</th>\n",
              "      <th>registered</th>\n",
              "      <th>cnt</th>\n",
              "      <th>kategori_hari</th>\n",
              "      <th>humidity_category</th>\n",
              "    </tr>\n",
              "  </thead>\n",
              "  <tbody>\n",
              "    <tr>\n",
              "      <th>count</th>\n",
              "      <td>731</td>\n",
              "      <td>731</td>\n",
              "      <td>731</td>\n",
              "      <td>731</td>\n",
              "      <td>731.000000</td>\n",
              "      <td>731</td>\n",
              "      <td>731.000000</td>\n",
              "      <td>731</td>\n",
              "      <td>731.000000</td>\n",
              "      <td>731.000000</td>\n",
              "      <td>731.000000</td>\n",
              "      <td>731.000000</td>\n",
              "      <td>731.000000</td>\n",
              "      <td>731.000000</td>\n",
              "      <td>731.000000</td>\n",
              "      <td>731</td>\n",
              "      <td>731</td>\n",
              "    </tr>\n",
              "    <tr>\n",
              "      <th>unique</th>\n",
              "      <td>NaN</td>\n",
              "      <td>4</td>\n",
              "      <td>2</td>\n",
              "      <td>12</td>\n",
              "      <td>NaN</td>\n",
              "      <td>7</td>\n",
              "      <td>NaN</td>\n",
              "      <td>3</td>\n",
              "      <td>NaN</td>\n",
              "      <td>NaN</td>\n",
              "      <td>NaN</td>\n",
              "      <td>NaN</td>\n",
              "      <td>NaN</td>\n",
              "      <td>NaN</td>\n",
              "      <td>NaN</td>\n",
              "      <td>2</td>\n",
              "      <td>3</td>\n",
              "    </tr>\n",
              "    <tr>\n",
              "      <th>top</th>\n",
              "      <td>NaN</td>\n",
              "      <td>Fall</td>\n",
              "      <td>2012</td>\n",
              "      <td>Jan</td>\n",
              "      <td>NaN</td>\n",
              "      <td>Saturday</td>\n",
              "      <td>NaN</td>\n",
              "      <td>Clear</td>\n",
              "      <td>NaN</td>\n",
              "      <td>NaN</td>\n",
              "      <td>NaN</td>\n",
              "      <td>NaN</td>\n",
              "      <td>NaN</td>\n",
              "      <td>NaN</td>\n",
              "      <td>NaN</td>\n",
              "      <td>weekdays</td>\n",
              "      <td>Ideal</td>\n",
              "    </tr>\n",
              "    <tr>\n",
              "      <th>freq</th>\n",
              "      <td>NaN</td>\n",
              "      <td>188</td>\n",
              "      <td>366</td>\n",
              "      <td>62</td>\n",
              "      <td>NaN</td>\n",
              "      <td>105</td>\n",
              "      <td>NaN</td>\n",
              "      <td>463</td>\n",
              "      <td>NaN</td>\n",
              "      <td>NaN</td>\n",
              "      <td>NaN</td>\n",
              "      <td>NaN</td>\n",
              "      <td>NaN</td>\n",
              "      <td>NaN</td>\n",
              "      <td>NaN</td>\n",
              "      <td>521</td>\n",
              "      <td>334</td>\n",
              "    </tr>\n",
              "    <tr>\n",
              "      <th>mean</th>\n",
              "      <td>2012-01-01 00:00:00</td>\n",
              "      <td>NaN</td>\n",
              "      <td>NaN</td>\n",
              "      <td>NaN</td>\n",
              "      <td>0.028728</td>\n",
              "      <td>NaN</td>\n",
              "      <td>0.683995</td>\n",
              "      <td>NaN</td>\n",
              "      <td>0.495385</td>\n",
              "      <td>0.474354</td>\n",
              "      <td>62.789406</td>\n",
              "      <td>0.190486</td>\n",
              "      <td>848.176471</td>\n",
              "      <td>3656.172367</td>\n",
              "      <td>4504.348837</td>\n",
              "      <td>NaN</td>\n",
              "      <td>NaN</td>\n",
              "    </tr>\n",
              "    <tr>\n",
              "      <th>min</th>\n",
              "      <td>2011-01-01 00:00:00</td>\n",
              "      <td>NaN</td>\n",
              "      <td>NaN</td>\n",
              "      <td>NaN</td>\n",
              "      <td>0.000000</td>\n",
              "      <td>NaN</td>\n",
              "      <td>0.000000</td>\n",
              "      <td>NaN</td>\n",
              "      <td>0.059130</td>\n",
              "      <td>0.079070</td>\n",
              "      <td>0.000000</td>\n",
              "      <td>0.022392</td>\n",
              "      <td>2.000000</td>\n",
              "      <td>20.000000</td>\n",
              "      <td>22.000000</td>\n",
              "      <td>NaN</td>\n",
              "      <td>NaN</td>\n",
              "    </tr>\n",
              "    <tr>\n",
              "      <th>25%</th>\n",
              "      <td>2011-07-02 12:00:00</td>\n",
              "      <td>NaN</td>\n",
              "      <td>NaN</td>\n",
              "      <td>NaN</td>\n",
              "      <td>0.000000</td>\n",
              "      <td>NaN</td>\n",
              "      <td>0.000000</td>\n",
              "      <td>NaN</td>\n",
              "      <td>0.337083</td>\n",
              "      <td>0.337842</td>\n",
              "      <td>52.000000</td>\n",
              "      <td>0.134950</td>\n",
              "      <td>315.500000</td>\n",
              "      <td>2497.000000</td>\n",
              "      <td>3152.000000</td>\n",
              "      <td>NaN</td>\n",
              "      <td>NaN</td>\n",
              "    </tr>\n",
              "    <tr>\n",
              "      <th>50%</th>\n",
              "      <td>2012-01-01 00:00:00</td>\n",
              "      <td>NaN</td>\n",
              "      <td>NaN</td>\n",
              "      <td>NaN</td>\n",
              "      <td>0.000000</td>\n",
              "      <td>NaN</td>\n",
              "      <td>1.000000</td>\n",
              "      <td>NaN</td>\n",
              "      <td>0.498333</td>\n",
              "      <td>0.486733</td>\n",
              "      <td>62.666700</td>\n",
              "      <td>0.180975</td>\n",
              "      <td>713.000000</td>\n",
              "      <td>3662.000000</td>\n",
              "      <td>4548.000000</td>\n",
              "      <td>NaN</td>\n",
              "      <td>NaN</td>\n",
              "    </tr>\n",
              "    <tr>\n",
              "      <th>75%</th>\n",
              "      <td>2012-07-01 12:00:00</td>\n",
              "      <td>NaN</td>\n",
              "      <td>NaN</td>\n",
              "      <td>NaN</td>\n",
              "      <td>0.000000</td>\n",
              "      <td>NaN</td>\n",
              "      <td>1.000000</td>\n",
              "      <td>NaN</td>\n",
              "      <td>0.655417</td>\n",
              "      <td>0.608602</td>\n",
              "      <td>73.020850</td>\n",
              "      <td>0.233214</td>\n",
              "      <td>1096.000000</td>\n",
              "      <td>4776.500000</td>\n",
              "      <td>5956.000000</td>\n",
              "      <td>NaN</td>\n",
              "      <td>NaN</td>\n",
              "    </tr>\n",
              "    <tr>\n",
              "      <th>max</th>\n",
              "      <td>2012-12-31 00:00:00</td>\n",
              "      <td>NaN</td>\n",
              "      <td>NaN</td>\n",
              "      <td>NaN</td>\n",
              "      <td>1.000000</td>\n",
              "      <td>NaN</td>\n",
              "      <td>1.000000</td>\n",
              "      <td>NaN</td>\n",
              "      <td>0.861667</td>\n",
              "      <td>0.840896</td>\n",
              "      <td>97.250000</td>\n",
              "      <td>0.507463</td>\n",
              "      <td>3410.000000</td>\n",
              "      <td>6946.000000</td>\n",
              "      <td>8714.000000</td>\n",
              "      <td>NaN</td>\n",
              "      <td>NaN</td>\n",
              "    </tr>\n",
              "    <tr>\n",
              "      <th>std</th>\n",
              "      <td>NaN</td>\n",
              "      <td>NaN</td>\n",
              "      <td>NaN</td>\n",
              "      <td>NaN</td>\n",
              "      <td>0.167155</td>\n",
              "      <td>NaN</td>\n",
              "      <td>0.465233</td>\n",
              "      <td>NaN</td>\n",
              "      <td>0.183051</td>\n",
              "      <td>0.162961</td>\n",
              "      <td>14.242910</td>\n",
              "      <td>0.077498</td>\n",
              "      <td>686.622488</td>\n",
              "      <td>1560.256377</td>\n",
              "      <td>1937.211452</td>\n",
              "      <td>NaN</td>\n",
              "      <td>NaN</td>\n",
              "    </tr>\n",
              "  </tbody>\n",
              "</table>\n",
              "</div>"
            ],
            "text/plain": [
              "                     dteday season    yr mnth     holiday   weekday  \\\n",
              "count                   731    731   731  731  731.000000       731   \n",
              "unique                  NaN      4     2   12         NaN         7   \n",
              "top                     NaN   Fall  2012  Jan         NaN  Saturday   \n",
              "freq                    NaN    188   366   62         NaN       105   \n",
              "mean    2012-01-01 00:00:00    NaN   NaN  NaN    0.028728       NaN   \n",
              "min     2011-01-01 00:00:00    NaN   NaN  NaN    0.000000       NaN   \n",
              "25%     2011-07-02 12:00:00    NaN   NaN  NaN    0.000000       NaN   \n",
              "50%     2012-01-01 00:00:00    NaN   NaN  NaN    0.000000       NaN   \n",
              "75%     2012-07-01 12:00:00    NaN   NaN  NaN    0.000000       NaN   \n",
              "max     2012-12-31 00:00:00    NaN   NaN  NaN    1.000000       NaN   \n",
              "std                     NaN    NaN   NaN  NaN    0.167155       NaN   \n",
              "\n",
              "        workingday weathersit        temp       atemp         hum   windspeed  \\\n",
              "count   731.000000        731  731.000000  731.000000  731.000000  731.000000   \n",
              "unique         NaN          3         NaN         NaN         NaN         NaN   \n",
              "top            NaN      Clear         NaN         NaN         NaN         NaN   \n",
              "freq           NaN        463         NaN         NaN         NaN         NaN   \n",
              "mean      0.683995        NaN    0.495385    0.474354   62.789406    0.190486   \n",
              "min       0.000000        NaN    0.059130    0.079070    0.000000    0.022392   \n",
              "25%       0.000000        NaN    0.337083    0.337842   52.000000    0.134950   \n",
              "50%       1.000000        NaN    0.498333    0.486733   62.666700    0.180975   \n",
              "75%       1.000000        NaN    0.655417    0.608602   73.020850    0.233214   \n",
              "max       1.000000        NaN    0.861667    0.840896   97.250000    0.507463   \n",
              "std       0.465233        NaN    0.183051    0.162961   14.242910    0.077498   \n",
              "\n",
              "             casual   registered          cnt kategori_hari humidity_category  \n",
              "count    731.000000   731.000000   731.000000           731               731  \n",
              "unique          NaN          NaN          NaN             2                 3  \n",
              "top             NaN          NaN          NaN      weekdays             Ideal  \n",
              "freq            NaN          NaN          NaN           521               334  \n",
              "mean     848.176471  3656.172367  4504.348837           NaN               NaN  \n",
              "min        2.000000    20.000000    22.000000           NaN               NaN  \n",
              "25%      315.500000  2497.000000  3152.000000           NaN               NaN  \n",
              "50%      713.000000  3662.000000  4548.000000           NaN               NaN  \n",
              "75%     1096.000000  4776.500000  5956.000000           NaN               NaN  \n",
              "max     3410.000000  6946.000000  8714.000000           NaN               NaN  \n",
              "std      686.622488  1560.256377  1937.211452           NaN               NaN  "
            ]
          },
          "execution_count": 23,
          "metadata": {},
          "output_type": "execute_result"
        }
      ],
      "source": [
        "# melihat rangkuman parameter statistik dari data jam\n",
        "hari_df.describe(include=\"all\")\n"
      ]
    },
    {
      "cell_type": "markdown",
      "metadata": {
        "id": "th_Lzl2Fkj9O"
      },
      "source": [
        "- hasil dari kode describe(include=\"all\") adalah menampilkan  banyak parameter statistik serta kita bisa melihat "
      ]
    },
    {
      "cell_type": "markdown",
      "metadata": {},
      "source": [
        "## Explore data jam"
      ]
    },
    {
      "cell_type": "code",
      "execution_count": 24,
      "metadata": {},
      "outputs": [
        {
          "data": {
            "text/html": [
              "<div>\n",
              "<style scoped>\n",
              "    .dataframe tbody tr th:only-of-type {\n",
              "        vertical-align: middle;\n",
              "    }\n",
              "\n",
              "    .dataframe tbody tr th {\n",
              "        vertical-align: top;\n",
              "    }\n",
              "\n",
              "    .dataframe thead th {\n",
              "        text-align: right;\n",
              "    }\n",
              "</style>\n",
              "<table border=\"1\" class=\"dataframe\">\n",
              "  <thead>\n",
              "    <tr style=\"text-align: right;\">\n",
              "      <th></th>\n",
              "      <th>dteday</th>\n",
              "      <th>season</th>\n",
              "      <th>yr</th>\n",
              "      <th>mnth</th>\n",
              "      <th>holiday</th>\n",
              "      <th>weekday</th>\n",
              "      <th>workingday</th>\n",
              "      <th>weathersit</th>\n",
              "      <th>temp</th>\n",
              "      <th>atemp</th>\n",
              "      <th>hum</th>\n",
              "      <th>windspeed</th>\n",
              "      <th>casual</th>\n",
              "      <th>registered</th>\n",
              "      <th>cnt</th>\n",
              "      <th>kategori_hari</th>\n",
              "      <th>humidity_category</th>\n",
              "    </tr>\n",
              "  </thead>\n",
              "  <tbody>\n",
              "    <tr>\n",
              "      <th>count</th>\n",
              "      <td>731</td>\n",
              "      <td>731</td>\n",
              "      <td>731</td>\n",
              "      <td>731</td>\n",
              "      <td>731.000000</td>\n",
              "      <td>731</td>\n",
              "      <td>731.000000</td>\n",
              "      <td>731</td>\n",
              "      <td>731.000000</td>\n",
              "      <td>731.000000</td>\n",
              "      <td>731.000000</td>\n",
              "      <td>731.000000</td>\n",
              "      <td>731.000000</td>\n",
              "      <td>731.000000</td>\n",
              "      <td>731.000000</td>\n",
              "      <td>731</td>\n",
              "      <td>731</td>\n",
              "    </tr>\n",
              "    <tr>\n",
              "      <th>unique</th>\n",
              "      <td>NaN</td>\n",
              "      <td>4</td>\n",
              "      <td>2</td>\n",
              "      <td>12</td>\n",
              "      <td>NaN</td>\n",
              "      <td>7</td>\n",
              "      <td>NaN</td>\n",
              "      <td>3</td>\n",
              "      <td>NaN</td>\n",
              "      <td>NaN</td>\n",
              "      <td>NaN</td>\n",
              "      <td>NaN</td>\n",
              "      <td>NaN</td>\n",
              "      <td>NaN</td>\n",
              "      <td>NaN</td>\n",
              "      <td>2</td>\n",
              "      <td>3</td>\n",
              "    </tr>\n",
              "    <tr>\n",
              "      <th>top</th>\n",
              "      <td>NaN</td>\n",
              "      <td>Fall</td>\n",
              "      <td>2012</td>\n",
              "      <td>Jan</td>\n",
              "      <td>NaN</td>\n",
              "      <td>Saturday</td>\n",
              "      <td>NaN</td>\n",
              "      <td>Clear</td>\n",
              "      <td>NaN</td>\n",
              "      <td>NaN</td>\n",
              "      <td>NaN</td>\n",
              "      <td>NaN</td>\n",
              "      <td>NaN</td>\n",
              "      <td>NaN</td>\n",
              "      <td>NaN</td>\n",
              "      <td>weekdays</td>\n",
              "      <td>Ideal</td>\n",
              "    </tr>\n",
              "    <tr>\n",
              "      <th>freq</th>\n",
              "      <td>NaN</td>\n",
              "      <td>188</td>\n",
              "      <td>366</td>\n",
              "      <td>62</td>\n",
              "      <td>NaN</td>\n",
              "      <td>105</td>\n",
              "      <td>NaN</td>\n",
              "      <td>463</td>\n",
              "      <td>NaN</td>\n",
              "      <td>NaN</td>\n",
              "      <td>NaN</td>\n",
              "      <td>NaN</td>\n",
              "      <td>NaN</td>\n",
              "      <td>NaN</td>\n",
              "      <td>NaN</td>\n",
              "      <td>521</td>\n",
              "      <td>334</td>\n",
              "    </tr>\n",
              "    <tr>\n",
              "      <th>mean</th>\n",
              "      <td>2012-01-01 00:00:00</td>\n",
              "      <td>NaN</td>\n",
              "      <td>NaN</td>\n",
              "      <td>NaN</td>\n",
              "      <td>0.028728</td>\n",
              "      <td>NaN</td>\n",
              "      <td>0.683995</td>\n",
              "      <td>NaN</td>\n",
              "      <td>0.495385</td>\n",
              "      <td>0.474354</td>\n",
              "      <td>62.789406</td>\n",
              "      <td>0.190486</td>\n",
              "      <td>848.176471</td>\n",
              "      <td>3656.172367</td>\n",
              "      <td>4504.348837</td>\n",
              "      <td>NaN</td>\n",
              "      <td>NaN</td>\n",
              "    </tr>\n",
              "    <tr>\n",
              "      <th>min</th>\n",
              "      <td>2011-01-01 00:00:00</td>\n",
              "      <td>NaN</td>\n",
              "      <td>NaN</td>\n",
              "      <td>NaN</td>\n",
              "      <td>0.000000</td>\n",
              "      <td>NaN</td>\n",
              "      <td>0.000000</td>\n",
              "      <td>NaN</td>\n",
              "      <td>0.059130</td>\n",
              "      <td>0.079070</td>\n",
              "      <td>0.000000</td>\n",
              "      <td>0.022392</td>\n",
              "      <td>2.000000</td>\n",
              "      <td>20.000000</td>\n",
              "      <td>22.000000</td>\n",
              "      <td>NaN</td>\n",
              "      <td>NaN</td>\n",
              "    </tr>\n",
              "    <tr>\n",
              "      <th>25%</th>\n",
              "      <td>2011-07-02 12:00:00</td>\n",
              "      <td>NaN</td>\n",
              "      <td>NaN</td>\n",
              "      <td>NaN</td>\n",
              "      <td>0.000000</td>\n",
              "      <td>NaN</td>\n",
              "      <td>0.000000</td>\n",
              "      <td>NaN</td>\n",
              "      <td>0.337083</td>\n",
              "      <td>0.337842</td>\n",
              "      <td>52.000000</td>\n",
              "      <td>0.134950</td>\n",
              "      <td>315.500000</td>\n",
              "      <td>2497.000000</td>\n",
              "      <td>3152.000000</td>\n",
              "      <td>NaN</td>\n",
              "      <td>NaN</td>\n",
              "    </tr>\n",
              "    <tr>\n",
              "      <th>50%</th>\n",
              "      <td>2012-01-01 00:00:00</td>\n",
              "      <td>NaN</td>\n",
              "      <td>NaN</td>\n",
              "      <td>NaN</td>\n",
              "      <td>0.000000</td>\n",
              "      <td>NaN</td>\n",
              "      <td>1.000000</td>\n",
              "      <td>NaN</td>\n",
              "      <td>0.498333</td>\n",
              "      <td>0.486733</td>\n",
              "      <td>62.666700</td>\n",
              "      <td>0.180975</td>\n",
              "      <td>713.000000</td>\n",
              "      <td>3662.000000</td>\n",
              "      <td>4548.000000</td>\n",
              "      <td>NaN</td>\n",
              "      <td>NaN</td>\n",
              "    </tr>\n",
              "    <tr>\n",
              "      <th>75%</th>\n",
              "      <td>2012-07-01 12:00:00</td>\n",
              "      <td>NaN</td>\n",
              "      <td>NaN</td>\n",
              "      <td>NaN</td>\n",
              "      <td>0.000000</td>\n",
              "      <td>NaN</td>\n",
              "      <td>1.000000</td>\n",
              "      <td>NaN</td>\n",
              "      <td>0.655417</td>\n",
              "      <td>0.608602</td>\n",
              "      <td>73.020850</td>\n",
              "      <td>0.233214</td>\n",
              "      <td>1096.000000</td>\n",
              "      <td>4776.500000</td>\n",
              "      <td>5956.000000</td>\n",
              "      <td>NaN</td>\n",
              "      <td>NaN</td>\n",
              "    </tr>\n",
              "    <tr>\n",
              "      <th>max</th>\n",
              "      <td>2012-12-31 00:00:00</td>\n",
              "      <td>NaN</td>\n",
              "      <td>NaN</td>\n",
              "      <td>NaN</td>\n",
              "      <td>1.000000</td>\n",
              "      <td>NaN</td>\n",
              "      <td>1.000000</td>\n",
              "      <td>NaN</td>\n",
              "      <td>0.861667</td>\n",
              "      <td>0.840896</td>\n",
              "      <td>97.250000</td>\n",
              "      <td>0.507463</td>\n",
              "      <td>3410.000000</td>\n",
              "      <td>6946.000000</td>\n",
              "      <td>8714.000000</td>\n",
              "      <td>NaN</td>\n",
              "      <td>NaN</td>\n",
              "    </tr>\n",
              "    <tr>\n",
              "      <th>std</th>\n",
              "      <td>NaN</td>\n",
              "      <td>NaN</td>\n",
              "      <td>NaN</td>\n",
              "      <td>NaN</td>\n",
              "      <td>0.167155</td>\n",
              "      <td>NaN</td>\n",
              "      <td>0.465233</td>\n",
              "      <td>NaN</td>\n",
              "      <td>0.183051</td>\n",
              "      <td>0.162961</td>\n",
              "      <td>14.242910</td>\n",
              "      <td>0.077498</td>\n",
              "      <td>686.622488</td>\n",
              "      <td>1560.256377</td>\n",
              "      <td>1937.211452</td>\n",
              "      <td>NaN</td>\n",
              "      <td>NaN</td>\n",
              "    </tr>\n",
              "  </tbody>\n",
              "</table>\n",
              "</div>"
            ],
            "text/plain": [
              "                     dteday season    yr mnth     holiday   weekday  \\\n",
              "count                   731    731   731  731  731.000000       731   \n",
              "unique                  NaN      4     2   12         NaN         7   \n",
              "top                     NaN   Fall  2012  Jan         NaN  Saturday   \n",
              "freq                    NaN    188   366   62         NaN       105   \n",
              "mean    2012-01-01 00:00:00    NaN   NaN  NaN    0.028728       NaN   \n",
              "min     2011-01-01 00:00:00    NaN   NaN  NaN    0.000000       NaN   \n",
              "25%     2011-07-02 12:00:00    NaN   NaN  NaN    0.000000       NaN   \n",
              "50%     2012-01-01 00:00:00    NaN   NaN  NaN    0.000000       NaN   \n",
              "75%     2012-07-01 12:00:00    NaN   NaN  NaN    0.000000       NaN   \n",
              "max     2012-12-31 00:00:00    NaN   NaN  NaN    1.000000       NaN   \n",
              "std                     NaN    NaN   NaN  NaN    0.167155       NaN   \n",
              "\n",
              "        workingday weathersit        temp       atemp         hum   windspeed  \\\n",
              "count   731.000000        731  731.000000  731.000000  731.000000  731.000000   \n",
              "unique         NaN          3         NaN         NaN         NaN         NaN   \n",
              "top            NaN      Clear         NaN         NaN         NaN         NaN   \n",
              "freq           NaN        463         NaN         NaN         NaN         NaN   \n",
              "mean      0.683995        NaN    0.495385    0.474354   62.789406    0.190486   \n",
              "min       0.000000        NaN    0.059130    0.079070    0.000000    0.022392   \n",
              "25%       0.000000        NaN    0.337083    0.337842   52.000000    0.134950   \n",
              "50%       1.000000        NaN    0.498333    0.486733   62.666700    0.180975   \n",
              "75%       1.000000        NaN    0.655417    0.608602   73.020850    0.233214   \n",
              "max       1.000000        NaN    0.861667    0.840896   97.250000    0.507463   \n",
              "std       0.465233        NaN    0.183051    0.162961   14.242910    0.077498   \n",
              "\n",
              "             casual   registered          cnt kategori_hari humidity_category  \n",
              "count    731.000000   731.000000   731.000000           731               731  \n",
              "unique          NaN          NaN          NaN             2                 3  \n",
              "top             NaN          NaN          NaN      weekdays             Ideal  \n",
              "freq            NaN          NaN          NaN           521               334  \n",
              "mean     848.176471  3656.172367  4504.348837           NaN               NaN  \n",
              "min        2.000000    20.000000    22.000000           NaN               NaN  \n",
              "25%      315.500000  2497.000000  3152.000000           NaN               NaN  \n",
              "50%      713.000000  3662.000000  4548.000000           NaN               NaN  \n",
              "75%     1096.000000  4776.500000  5956.000000           NaN               NaN  \n",
              "max     3410.000000  6946.000000  8714.000000           NaN               NaN  \n",
              "std      686.622488  1560.256377  1937.211452           NaN               NaN  "
            ]
          },
          "execution_count": 24,
          "metadata": {},
          "output_type": "execute_result"
        }
      ],
      "source": [
        "# melihat rangkuman parameter statistik dari data jam\n",
        "hari_df.describe(include=\"all\")"
      ]
    },
    {
      "cell_type": "code",
      "execution_count": 25,
      "metadata": {
        "colab": {
          "base_uri": "https://localhost:8080/",
          "height": 426
        },
        "id": "AHeylJ7e1Z99",
        "outputId": "cd7b8cc0-9d66-4d6a-8b42-e0d791cc3a5f"
      },
      "outputs": [
        {
          "data": {
            "text/html": [
              "<div>\n",
              "<style scoped>\n",
              "    .dataframe tbody tr th:only-of-type {\n",
              "        vertical-align: middle;\n",
              "    }\n",
              "\n",
              "    .dataframe tbody tr th {\n",
              "        vertical-align: top;\n",
              "    }\n",
              "\n",
              "    .dataframe thead th {\n",
              "        text-align: right;\n",
              "    }\n",
              "</style>\n",
              "<table border=\"1\" class=\"dataframe\">\n",
              "  <thead>\n",
              "    <tr style=\"text-align: right;\">\n",
              "      <th></th>\n",
              "      <th>hr</th>\n",
              "      <th>holiday</th>\n",
              "      <th>workingday</th>\n",
              "      <th>temp</th>\n",
              "      <th>atemp</th>\n",
              "      <th>hum</th>\n",
              "      <th>windspeed</th>\n",
              "      <th>casual</th>\n",
              "      <th>registered</th>\n",
              "      <th>cnt</th>\n",
              "    </tr>\n",
              "  </thead>\n",
              "  <tbody>\n",
              "    <tr>\n",
              "      <th>hr</th>\n",
              "      <td>1.000000</td>\n",
              "      <td>0.000479</td>\n",
              "      <td>0.002285</td>\n",
              "      <td>0.137603</td>\n",
              "      <td>0.133750</td>\n",
              "      <td>-0.276498</td>\n",
              "      <td>0.137252</td>\n",
              "      <td>0.301202</td>\n",
              "      <td>0.374141</td>\n",
              "      <td>0.394071</td>\n",
              "    </tr>\n",
              "    <tr>\n",
              "      <th>holiday</th>\n",
              "      <td>0.000479</td>\n",
              "      <td>1.000000</td>\n",
              "      <td>-0.252471</td>\n",
              "      <td>-0.027340</td>\n",
              "      <td>-0.030973</td>\n",
              "      <td>-0.010588</td>\n",
              "      <td>0.003988</td>\n",
              "      <td>0.031564</td>\n",
              "      <td>-0.047345</td>\n",
              "      <td>-0.030927</td>\n",
              "    </tr>\n",
              "    <tr>\n",
              "      <th>workingday</th>\n",
              "      <td>0.002285</td>\n",
              "      <td>-0.252471</td>\n",
              "      <td>1.000000</td>\n",
              "      <td>0.055390</td>\n",
              "      <td>0.054667</td>\n",
              "      <td>0.015688</td>\n",
              "      <td>-0.011830</td>\n",
              "      <td>-0.300942</td>\n",
              "      <td>0.134326</td>\n",
              "      <td>0.030284</td>\n",
              "    </tr>\n",
              "    <tr>\n",
              "      <th>temp</th>\n",
              "      <td>0.137603</td>\n",
              "      <td>-0.027340</td>\n",
              "      <td>0.055390</td>\n",
              "      <td>1.000000</td>\n",
              "      <td>0.987672</td>\n",
              "      <td>-0.069881</td>\n",
              "      <td>-0.023125</td>\n",
              "      <td>0.459616</td>\n",
              "      <td>0.335361</td>\n",
              "      <td>0.404772</td>\n",
              "    </tr>\n",
              "    <tr>\n",
              "      <th>atemp</th>\n",
              "      <td>0.133750</td>\n",
              "      <td>-0.030973</td>\n",
              "      <td>0.054667</td>\n",
              "      <td>0.987672</td>\n",
              "      <td>1.000000</td>\n",
              "      <td>-0.051918</td>\n",
              "      <td>-0.062336</td>\n",
              "      <td>0.454080</td>\n",
              "      <td>0.332559</td>\n",
              "      <td>0.400929</td>\n",
              "    </tr>\n",
              "    <tr>\n",
              "      <th>hum</th>\n",
              "      <td>-0.276498</td>\n",
              "      <td>-0.010588</td>\n",
              "      <td>0.015688</td>\n",
              "      <td>-0.069881</td>\n",
              "      <td>-0.051918</td>\n",
              "      <td>1.000000</td>\n",
              "      <td>-0.290105</td>\n",
              "      <td>-0.347028</td>\n",
              "      <td>-0.273933</td>\n",
              "      <td>-0.322911</td>\n",
              "    </tr>\n",
              "    <tr>\n",
              "      <th>windspeed</th>\n",
              "      <td>0.137252</td>\n",
              "      <td>0.003988</td>\n",
              "      <td>-0.011830</td>\n",
              "      <td>-0.023125</td>\n",
              "      <td>-0.062336</td>\n",
              "      <td>-0.290105</td>\n",
              "      <td>1.000000</td>\n",
              "      <td>0.090287</td>\n",
              "      <td>0.082321</td>\n",
              "      <td>0.093234</td>\n",
              "    </tr>\n",
              "    <tr>\n",
              "      <th>casual</th>\n",
              "      <td>0.301202</td>\n",
              "      <td>0.031564</td>\n",
              "      <td>-0.300942</td>\n",
              "      <td>0.459616</td>\n",
              "      <td>0.454080</td>\n",
              "      <td>-0.347028</td>\n",
              "      <td>0.090287</td>\n",
              "      <td>1.000000</td>\n",
              "      <td>0.506618</td>\n",
              "      <td>0.694564</td>\n",
              "    </tr>\n",
              "    <tr>\n",
              "      <th>registered</th>\n",
              "      <td>0.374141</td>\n",
              "      <td>-0.047345</td>\n",
              "      <td>0.134326</td>\n",
              "      <td>0.335361</td>\n",
              "      <td>0.332559</td>\n",
              "      <td>-0.273933</td>\n",
              "      <td>0.082321</td>\n",
              "      <td>0.506618</td>\n",
              "      <td>1.000000</td>\n",
              "      <td>0.972151</td>\n",
              "    </tr>\n",
              "    <tr>\n",
              "      <th>cnt</th>\n",
              "      <td>0.394071</td>\n",
              "      <td>-0.030927</td>\n",
              "      <td>0.030284</td>\n",
              "      <td>0.404772</td>\n",
              "      <td>0.400929</td>\n",
              "      <td>-0.322911</td>\n",
              "      <td>0.093234</td>\n",
              "      <td>0.694564</td>\n",
              "      <td>0.972151</td>\n",
              "      <td>1.000000</td>\n",
              "    </tr>\n",
              "  </tbody>\n",
              "</table>\n",
              "</div>"
            ],
            "text/plain": [
              "                  hr   holiday  workingday      temp     atemp       hum  \\\n",
              "hr          1.000000  0.000479    0.002285  0.137603  0.133750 -0.276498   \n",
              "holiday     0.000479  1.000000   -0.252471 -0.027340 -0.030973 -0.010588   \n",
              "workingday  0.002285 -0.252471    1.000000  0.055390  0.054667  0.015688   \n",
              "temp        0.137603 -0.027340    0.055390  1.000000  0.987672 -0.069881   \n",
              "atemp       0.133750 -0.030973    0.054667  0.987672  1.000000 -0.051918   \n",
              "hum        -0.276498 -0.010588    0.015688 -0.069881 -0.051918  1.000000   \n",
              "windspeed   0.137252  0.003988   -0.011830 -0.023125 -0.062336 -0.290105   \n",
              "casual      0.301202  0.031564   -0.300942  0.459616  0.454080 -0.347028   \n",
              "registered  0.374141 -0.047345    0.134326  0.335361  0.332559 -0.273933   \n",
              "cnt         0.394071 -0.030927    0.030284  0.404772  0.400929 -0.322911   \n",
              "\n",
              "            windspeed    casual  registered       cnt  \n",
              "hr           0.137252  0.301202    0.374141  0.394071  \n",
              "holiday      0.003988  0.031564   -0.047345 -0.030927  \n",
              "workingday  -0.011830 -0.300942    0.134326  0.030284  \n",
              "temp        -0.023125  0.459616    0.335361  0.404772  \n",
              "atemp       -0.062336  0.454080    0.332559  0.400929  \n",
              "hum         -0.290105 -0.347028   -0.273933 -0.322911  \n",
              "windspeed    1.000000  0.090287    0.082321  0.093234  \n",
              "casual       0.090287  1.000000    0.506618  0.694564  \n",
              "registered   0.082321  0.506618    1.000000  0.972151  \n",
              "cnt          0.093234  0.694564    0.972151  1.000000  "
            ]
          },
          "execution_count": 25,
          "metadata": {},
          "output_type": "execute_result"
        }
      ],
      "source": [
        "#mengecek nilai korelasi\n",
        "jam_df.corr(numeric_only=True)"
      ]
    },
    {
      "cell_type": "code",
      "execution_count": 26,
      "metadata": {
        "colab": {
          "base_uri": "https://localhost:8080/",
          "height": 175
        },
        "id": "lOLDnxvn29bA",
        "outputId": "a92693b9-d2da-4078-e45f-f92d66a16d88"
      },
      "outputs": [
        {
          "data": {
            "text/html": [
              "<div>\n",
              "<style scoped>\n",
              "    .dataframe tbody tr th:only-of-type {\n",
              "        vertical-align: middle;\n",
              "    }\n",
              "\n",
              "    .dataframe tbody tr th {\n",
              "        vertical-align: top;\n",
              "    }\n",
              "\n",
              "    .dataframe thead th {\n",
              "        text-align: right;\n",
              "    }\n",
              "</style>\n",
              "<table border=\"1\" class=\"dataframe\">\n",
              "  <thead>\n",
              "    <tr style=\"text-align: right;\">\n",
              "      <th></th>\n",
              "      <th>season</th>\n",
              "      <th>cnt</th>\n",
              "    </tr>\n",
              "  </thead>\n",
              "  <tbody>\n",
              "    <tr>\n",
              "      <th>0</th>\n",
              "      <td>Fall</td>\n",
              "      <td>1061129</td>\n",
              "    </tr>\n",
              "    <tr>\n",
              "      <th>1</th>\n",
              "      <td>Summer</td>\n",
              "      <td>918589</td>\n",
              "    </tr>\n",
              "    <tr>\n",
              "      <th>2</th>\n",
              "      <td>Winter</td>\n",
              "      <td>841613</td>\n",
              "    </tr>\n",
              "    <tr>\n",
              "      <th>3</th>\n",
              "      <td>Spring</td>\n",
              "      <td>471348</td>\n",
              "    </tr>\n",
              "  </tbody>\n",
              "</table>\n",
              "</div>"
            ],
            "text/plain": [
              "   season      cnt\n",
              "0    Fall  1061129\n",
              "1  Summer   918589\n",
              "2  Winter   841613\n",
              "3  Spring   471348"
            ]
          },
          "execution_count": 26,
          "metadata": {},
          "output_type": "execute_result"
        }
      ],
      "source": [
        "# menampilkan jumlah total pelanggan tiap musimnya\n",
        "hari_df.groupby(by=\"season\").cnt.sum().sort_values(ascending=False).reset_index().head(10)"
      ]
    },
    {
      "cell_type": "markdown",
      "metadata": {
        "id": "alrf2xhc3c3D"
      },
      "source": [
        "hasil dari kode diatas menampilkan total jumlah yang sewa sepeda tiap musimnya"
      ]
    },
    {
      "cell_type": "code",
      "execution_count": 27,
      "metadata": {},
      "outputs": [
        {
          "data": {
            "text/html": [
              "<div>\n",
              "<style scoped>\n",
              "    .dataframe tbody tr th:only-of-type {\n",
              "        vertical-align: middle;\n",
              "    }\n",
              "\n",
              "    .dataframe tbody tr th {\n",
              "        vertical-align: top;\n",
              "    }\n",
              "\n",
              "    .dataframe thead th {\n",
              "        text-align: right;\n",
              "    }\n",
              "</style>\n",
              "<table border=\"1\" class=\"dataframe\">\n",
              "  <thead>\n",
              "    <tr style=\"text-align: right;\">\n",
              "      <th></th>\n",
              "      <th>yr</th>\n",
              "      <th>mnth</th>\n",
              "      <th>cnt</th>\n",
              "    </tr>\n",
              "  </thead>\n",
              "  <tbody>\n",
              "    <tr>\n",
              "      <th>23</th>\n",
              "      <td>2012</td>\n",
              "      <td>Sep</td>\n",
              "      <td>218573</td>\n",
              "    </tr>\n",
              "    <tr>\n",
              "      <th>13</th>\n",
              "      <td>2012</td>\n",
              "      <td>Aug</td>\n",
              "      <td>214503</td>\n",
              "    </tr>\n",
              "    <tr>\n",
              "      <th>17</th>\n",
              "      <td>2012</td>\n",
              "      <td>Jul</td>\n",
              "      <td>203607</td>\n",
              "    </tr>\n",
              "    <tr>\n",
              "      <th>18</th>\n",
              "      <td>2012</td>\n",
              "      <td>Jun</td>\n",
              "      <td>202830</td>\n",
              "    </tr>\n",
              "    <tr>\n",
              "      <th>22</th>\n",
              "      <td>2012</td>\n",
              "      <td>Oct</td>\n",
              "      <td>198841</td>\n",
              "    </tr>\n",
              "    <tr>\n",
              "      <th>20</th>\n",
              "      <td>2012</td>\n",
              "      <td>May</td>\n",
              "      <td>195865</td>\n",
              "    </tr>\n",
              "    <tr>\n",
              "      <th>12</th>\n",
              "      <td>2012</td>\n",
              "      <td>Apr</td>\n",
              "      <td>174224</td>\n",
              "    </tr>\n",
              "    <tr>\n",
              "      <th>19</th>\n",
              "      <td>2012</td>\n",
              "      <td>Mar</td>\n",
              "      <td>164875</td>\n",
              "    </tr>\n",
              "    <tr>\n",
              "      <th>21</th>\n",
              "      <td>2012</td>\n",
              "      <td>Nov</td>\n",
              "      <td>152664</td>\n",
              "    </tr>\n",
              "    <tr>\n",
              "      <th>6</th>\n",
              "      <td>2011</td>\n",
              "      <td>Jun</td>\n",
              "      <td>143512</td>\n",
              "    </tr>\n",
              "  </tbody>\n",
              "</table>\n",
              "</div>"
            ],
            "text/plain": [
              "      yr mnth     cnt\n",
              "23  2012  Sep  218573\n",
              "13  2012  Aug  214503\n",
              "17  2012  Jul  203607\n",
              "18  2012  Jun  202830\n",
              "22  2012  Oct  198841\n",
              "20  2012  May  195865\n",
              "12  2012  Apr  174224\n",
              "19  2012  Mar  164875\n",
              "21  2012  Nov  152664\n",
              "6   2011  Jun  143512"
            ]
          },
          "execution_count": 27,
          "metadata": {},
          "output_type": "execute_result"
        }
      ],
      "source": [
        "# Mengelompokkan data berdasarkan tahun (yr) dan bulan (mnth), lalu menjumlahkan jumlah penjualan (cnt)\n",
        "penjualan_trend = hari_df.groupby(by=[\"yr\", \"mnth\"])[\"cnt\"].sum().reset_index()\n",
        "\n",
        "# Menampilkan 10 data dengan jumlah penjualan tertinggi\n",
        "penjualan_trend.sort_values(by=\"cnt\", ascending=False).head(10)\n"
      ]
    },
    {
      "cell_type": "code",
      "execution_count": 28,
      "metadata": {
        "colab": {
          "base_uri": "https://localhost:8080/",
          "height": 238
        },
        "id": "oN3hradG3qJG",
        "outputId": "fc672bab-30ae-4f9f-df37-4ca1d774de33"
      },
      "outputs": [
        {
          "data": {
            "text/html": [
              "<div>\n",
              "<style scoped>\n",
              "    .dataframe tbody tr th:only-of-type {\n",
              "        vertical-align: middle;\n",
              "    }\n",
              "\n",
              "    .dataframe tbody tr th {\n",
              "        vertical-align: top;\n",
              "    }\n",
              "\n",
              "    .dataframe thead tr th {\n",
              "        text-align: left;\n",
              "    }\n",
              "\n",
              "    .dataframe thead tr:last-of-type th {\n",
              "        text-align: right;\n",
              "    }\n",
              "</style>\n",
              "<table border=\"1\" class=\"dataframe\">\n",
              "  <thead>\n",
              "    <tr>\n",
              "      <th></th>\n",
              "      <th>registered</th>\n",
              "      <th>casual</th>\n",
              "    </tr>\n",
              "    <tr>\n",
              "      <th></th>\n",
              "      <th>sum</th>\n",
              "      <th>sum</th>\n",
              "    </tr>\n",
              "    <tr>\n",
              "      <th>yr</th>\n",
              "      <th></th>\n",
              "      <th></th>\n",
              "    </tr>\n",
              "  </thead>\n",
              "  <tbody>\n",
              "    <tr>\n",
              "      <th>2011</th>\n",
              "      <td>995851</td>\n",
              "      <td>247252</td>\n",
              "    </tr>\n",
              "    <tr>\n",
              "      <th>2012</th>\n",
              "      <td>1676811</td>\n",
              "      <td>372765</td>\n",
              "    </tr>\n",
              "  </tbody>\n",
              "</table>\n",
              "</div>"
            ],
            "text/plain": [
              "     registered  casual\n",
              "            sum     sum\n",
              "yr                     \n",
              "2011     995851  247252\n",
              "2012    1676811  372765"
            ]
          },
          "execution_count": 28,
          "metadata": {},
          "output_type": "execute_result"
        }
      ],
      "source": [
        "# melihat jumlah penyewaan tiap tahun berdasarkan pelanggan registered dan casual\n",
        "hari_df.groupby(by=\"yr\").agg({\n",
        "    \"registered\": [\"sum\"],\n",
        "    \"casual\": [\"sum\"]\n",
        "})"
      ]
    },
    {
      "cell_type": "markdown",
      "metadata": {
        "id": "zsyZjqak8DC2"
      },
      "source": [
        "## Visualization & Explanatory Analysis"
      ]
    },
    {
      "cell_type": "markdown",
      "metadata": {
        "id": "HZxOiQ6n8DC2"
      },
      "source": [
        "### Pertanyaan 1:\n",
        "Berapa total pelanggan yang menyewa sepeda di tiap musimnya?"
      ]
    },
    {
      "cell_type": "code",
      "execution_count": 29,
      "metadata": {
        "colab": {
          "base_uri": "https://localhost:8080/",
          "height": 819
        },
        "id": "59XMN_LnGQ7A",
        "outputId": "47424bbf-88ec-4b39-b6fb-ed9f11d19899"
      },
      "outputs": [
        {
          "name": "stderr",
          "output_type": "stream",
          "text": [
            "C:\\Users\\Gilang\\AppData\\Local\\Temp\\ipykernel_9364\\4075777043.py:7: FutureWarning: \n",
            "\n",
            "Passing `palette` without assigning `hue` is deprecated and will be removed in v0.14.0. Assign the `x` variable to `hue` and set `legend=False` for the same effect.\n",
            "\n",
            "  sns.barplot(\n"
          ]
        },
        {
          "data": {
            "image/png": "[encoded data removed]",
            "text/plain": [
              "<Figure size 1500x800 with 1 Axes>"
            ]
          },
          "metadata": {},
          "output_type": "display_data"
        }
      ],
      "source": [
        "# Menghitung pelanggan tiap musimnya dengan groupby\n",
        "colors = [\"blue\", \"cyan\", \"skyblue\", \"aqua\"]\n",
        "pivot = hari_df.groupby('season')['cnt'].sum()\n",
        "\n",
        "# Membuat barplot berdasarkan pivot_data yang telah dihitung\n",
        "fig, ax = plt.subplots(figsize=(15, 8))\n",
        "sns.barplot(\n",
        "    x=pivot.index,\n",
        "    y=pivot.values,\n",
        "    palette=colors,\n",
        "    ax=ax\n",
        ")\n",
        "\n",
        "# Menambahkan data label pada tiap barplot\n",
        "for p in ax.patches:\n",
        "    ax.text(\n",
        "        p.get_x() + p.get_width() / 2,\n",
        "        p.get_height() + 5,\n",
        "        f'{p.get_height():.0f}',\n",
        "        ha='center',\n",
        "        va='bottom',\n",
        "        fontsize=16,\n",
        "        color='black'\n",
        "    )\n",
        "\n",
        "# Menambahkan judul dan label\n",
        "ax.set_title(\"Jumlah Pelanggan Tiap Musimnya\", loc=\"center\", fontsize=30)\n",
        "ax.set_xlabel(None)\n",
        "ax.set_ylabel(None)\n",
        "ax.tick_params(axis='x', labelsize=20)\n",
        "ax.tick_params(axis='y', labelsize=20)\n",
        "\n",
        "# Menampilkan plot\n",
        "plt.show()\n",
        "\n"
      ]
    },
    {
      "cell_type": "markdown",
      "metadata": {
        "id": "bVOpqXsZAowe"
      },
      "source": [
        "dari diagram barplot diatas dapat disimpulkan , bahwa pada musim fall (musim gugur) total pelanggan sebesar 1061129 dibandingkan musim hujan ( spring) yang hanya 471348"
      ]
    },
    {
      "cell_type": "markdown",
      "metadata": {
        "id": "DgHI7CiU8DC2"
      },
      "source": [
        "### Pertanyaan 2:\n",
        "Bagaimana trend penjualan sistem sewa sepeda dalam beberapa tahun ini?"
      ]
    },
    {
      "cell_type": "code",
      "execution_count": 30,
      "metadata": {},
      "outputs": [
        {
          "data": {
            "image/png": "[encoded data removed]",
            "text/plain": [
              "<Figure size 2000x400 with 1 Axes>"
            ]
          },
          "metadata": {},
          "output_type": "display_data"
        }
      ],
      "source": [
        "\n",
        "# Membuat figure dengan ukuran (20, 4)\n",
        "plt.figure(figsize=(20, 4))\n",
        "\n",
        "# Mengonversi kolom 'dteday' ke format datetime jika belum\n",
        "hari_df[\"dteday\"] = pd.to_datetime(hari_df[\"dteday\"])\n",
        "\n",
        "# Menghitung jumlah pelanggan maksimum per bulan\n",
        "trend_bulanan = hari_df.groupby(hari_df[\"dteday\"].dt.to_period(\"M\"))[\"cnt\"].sum()\n",
        "\n",
        "# Membuat scatter plot serta mengatur sumbu, judul, dan grid\n",
        "plt.scatter(trend_bulanan.index.astype(str), trend_bulanan.values, c=\"cyan\", s=10, marker='o', label=\"Total pelanggan\")\n",
        "plt.plot(trend_bulanan.index.astype(str), trend_bulanan.values, linestyle=\"-\", color=\"blue\", alpha=0.7)\n",
        "\n",
        "# Menambahkan data label di setiap titik\n",
        "for i, txt in enumerate(trend_bulanan.values):\n",
        "    plt.text(trend_bulanan.index.astype(str)[i], txt + 5, f\"{txt:.0f}\", ha=\"center\", fontsize=10, color=\"black\")\n",
        "\n",
        "\n",
        "plt.grid(True, linestyle=\"--\", alpha=0.7)\n",
        "plt.ylabel(\"Jumlah Pelanggan\", fontsize=12)\n",
        "plt.title(\"Trend Penjualan Perusahaan\", fontsize=14)\n",
        "plt.xticks(rotation=45, fontsize=10)\n",
        "plt.legend()\n",
        "plt.show()"
      ]
    },
    {
      "cell_type": "markdown",
      "metadata": {},
      "source": [
        "Pada diagram diatas dapat kita lihat bahwa total pelanggan terbanyak ada di bulan september 2012 sebesar 218573, sedangkan total pelanggan paling sedikit di bulan januari 2011 sebesar 38189"
      ]
    },
    {
      "cell_type": "markdown",
      "metadata": {
        "id": "lj5Q84P35W6P"
      },
      "source": [
        "### Pertanyaan 3:\n",
        "Berapa jumlah perbandingan dari pelanggan yang registrasi dengan yang casual?"
      ]
    },
    {
      "cell_type": "code",
      "execution_count": 33,
      "metadata": {
        "colab": {
          "base_uri": "https://localhost:8080/",
          "height": 565
        },
        "id": "Fi11wjl99NlD",
        "outputId": "139d30a0-9b24-4b91-aec4-332026f8e559"
      },
      "outputs": [
        {
          "data": {
            "image/png": "[encoded data removed]",
            "text/plain": [
              "<Figure size 1000x600 with 1 Axes>"
            ]
          },
          "metadata": {},
          "output_type": "display_data"
        }
      ],
      "source": [
        "# Membuat figure\n",
        "plt.figure(figsize=(10, 6))\n",
        "\n",
        "# membuat variable jumlah dan pengguna\n",
        "pengguna = ['Registered', 'Casual']\n",
        "jumlah = [hari_df['registered'].sum(), hari_df['casual'].sum()]\n",
        "\n",
        "# Menentukan posisi sumbu-x\n",
        "x_pos = [0, 1]  # Posisi untuk \"Registered\" dan \"Casual\"\n",
        "\n",
        "# Membuat bar chart\n",
        "bars=plt.bar(x_pos[0], jumlah[0], width=0.4, label='Register', align='center', color='blue')\n",
        "bars2=plt.bar(x_pos[1], jumlah[1], width=0.4, label='Casual', align='center', color='blue')\n",
        "\n",
        "\n",
        "# Menambahkan label data pada setiap batang\n",
        "for bar in bars:\n",
        "    plt.text(bar.get_x() + bar.get_width() / 2, bar.get_height() + 5,\n",
        "             f'{bar.get_height():.0f}', ha='center', va='bottom', color='black', fontsize=12)\n",
        "\n",
        "for bar in bars2:\n",
        "    plt.text(bar.get_x() + bar.get_width() / 2, bar.get_height() + 5,\n",
        "             f'{bar.get_height():.0f}', ha='center', va='bottom', color='black', fontsize=12)\n",
        "\n",
        "# Menambahkan label dan judul\n",
        "plt.xticks(x_pos, pengguna)  # Menambahkan label untuk x-axis\n",
        "plt.grid(True, linestyle='--', alpha=0.7)  # Menambahkan grid dengan garis putus-putus\n",
        "plt.xlabel('Kategori Pelanggan')\n",
        "plt.ylabel('Jumlah Pelanggan')\n",
        "plt.title('Perbandingan Pelanggan Register dan Casual', fontsize=14)\n",
        "#plt.legend(title=\"Jenis Pelanggan\")\n",
        "\n",
        "\n",
        "\n",
        "# Menampilkan plot\n",
        "plt.show()\n"
      ]
    },
    {
      "cell_type": "markdown",
      "metadata": {
        "id": "fonkiRzd_pKY"
      },
      "source": [
        "diagram diatas menjelaskan bahwa jumlah pengguna yang melakukan registered lebih banyak dari pada yang casual yaitu registered= 2672662 sedangkan casual hanya 620017"
      ]
    },
    {
      "cell_type": "markdown",
      "metadata": {
        "id": "9y4VUsmcYNZ5"
      },
      "source": [
        "## Analisis Lanjutan (Opsional)"
      ]
    },
    {
      "cell_type": "markdown",
      "metadata": {
        "id": "v1Pgf44nLagV"
      },
      "source": [
        "Metode clustering"
      ]
    },
    {
      "cell_type": "markdown",
      "metadata": {},
      "source": [
        "Disini saya menggunakan metode analisis lanjutan yaitu metode clustering, tujuan saya menggunakan metode ini adalah untuk mengetahui faktor faktor yang mempengaruhi jumlah sewa sepeda tiap musimnya, adapun dari metode ini saya dapat kesimpulan serta mengelompokan 2 faktor utama selain jenis musim tiap tahunya, yaitu dipengaruhi oleh faktor cuaca serta kelembaban udara, hal ini bisa kita lihat dari hasil analisa clustering dibawah ini , untuk lebih jelasnya silahkan lihat hasil dari uji dibawah ini."
      ]
    },
    {
      "cell_type": "code",
      "execution_count": 34,
      "metadata": {
        "colab": {
          "base_uri": "https://localhost:8080/",
          "height": 241
        },
        "id": "iWhnzsJGYUCO",
        "outputId": "443da2d4-e6cd-4c2f-a863-bb5d354b0fd2"
      },
      "outputs": [
        {
          "data": {
            "text/plain": [
              "weathersit\n",
              "Clear             848\n",
              "Misty             649\n",
              "Light_rainsnow    368\n",
              "Heavy_rainsnow      3\n",
              "Name: cnt, dtype: int64"
            ]
          },
          "execution_count": 34,
          "metadata": {},
          "output_type": "execute_result"
        }
      ],
      "source": [
        "#mengelompokan total pengguna berdasrkan cuaca\n",
        "jam_df.groupby(by=\"weathersit\").cnt.nunique().sort_values(ascending=False)\n"
      ]
    },
    {
      "cell_type": "markdown",
      "metadata": {
        "id": "DGQNvnyNL4jJ"
      },
      "source": [
        "disini kita bisa tahu , bahwa orang orang lebih banyak menyewa sepeda ketika cuaca cerah ketimbang saat hujan salju, dimana saat cerah (clear) ada sebanyak 848 pengguna, sedangkan saat hujan salju hanya 3"
      ]
    },
    {
      "cell_type": "code",
      "execution_count": 35,
      "metadata": {},
      "outputs": [
        {
          "data": {
            "text/html": [
              "<div>\n",
              "<style scoped>\n",
              "    .dataframe tbody tr th:only-of-type {\n",
              "        vertical-align: middle;\n",
              "    }\n",
              "\n",
              "    .dataframe tbody tr th {\n",
              "        vertical-align: top;\n",
              "    }\n",
              "\n",
              "    .dataframe thead tr th {\n",
              "        text-align: left;\n",
              "    }\n",
              "\n",
              "    .dataframe thead tr:last-of-type th {\n",
              "        text-align: right;\n",
              "    }\n",
              "</style>\n",
              "<table border=\"1\" class=\"dataframe\">\n",
              "  <thead>\n",
              "    <tr>\n",
              "      <th></th>\n",
              "      <th>cnt</th>\n",
              "    </tr>\n",
              "    <tr>\n",
              "      <th></th>\n",
              "      <th>count</th>\n",
              "    </tr>\n",
              "    <tr>\n",
              "      <th>humidity_category</th>\n",
              "      <th></th>\n",
              "    </tr>\n",
              "  </thead>\n",
              "  <tbody>\n",
              "    <tr>\n",
              "      <th>Ideal</th>\n",
              "      <td>5505</td>\n",
              "    </tr>\n",
              "    <tr>\n",
              "      <th>Terlalu Lembab</th>\n",
              "      <td>8356</td>\n",
              "    </tr>\n",
              "    <tr>\n",
              "      <th>Terlalu kering</th>\n",
              "      <td>3518</td>\n",
              "    </tr>\n",
              "  </tbody>\n",
              "</table>\n",
              "</div>"
            ],
            "text/plain": [
              "                    cnt\n",
              "                  count\n",
              "humidity_category      \n",
              "Ideal              5505\n",
              "Terlalu Lembab     8356\n",
              "Terlalu kering     3518"
            ]
          },
          "execution_count": 35,
          "metadata": {},
          "output_type": "execute_result"
        }
      ],
      "source": [
        "jam_df.groupby(by=\"humidity_category\").agg({\n",
        "    \"cnt\": [\"count\"]})"
      ]
    },
    {
      "cell_type": "markdown",
      "metadata": {},
      "source": [
        "disini kita bisa lihat , total pengguna yang menyewa sepeda paling banyak di kondisi humidity terlalu lembab yaitu sebesar 8356"
      ]
    },
    {
      "cell_type": "markdown",
      "metadata": {
        "id": "_WeHlCeX8DC2"
      },
      "source": [
        "## Conclusion"
      ]
    },
    {
      "cell_type": "markdown",
      "metadata": {
        "id": "ZTcyR48Y8DC2"
      },
      "source": [
        "- Conclution pertanyaan 1 :berdasarkan diagram barplot, dapat kita ketahui bahwa total pengguna tiap musimnya paling banyak ada di musim fall(gugur) sebanyak 1.061.129, sedangkan paling sedikit ada dimusim spring (semi) sebanyak 471348.\n",
        "- Conclution pertanyaan 2 : berdasarkan diagram scatter, dapat kita ketahui bahwa total penjualan perusahaan dalam beberapa tahun terakhir mengalami peningkatan signifikat di bulan september 2012 dimana total pelanggan sebanyak 218573, dibandingkan dengan bulan januari 2011 yang hanya mencapai sebanyak 38189.\n",
        "- Conclution pertanyaan 3 : berdasarkan diagram barchart kita tahu bahwa jumlah pengguna yang sudah melakukan registrasi lebih banyak ketimbang yg belum melakukan registrasi (casual), dimana total pengguna yg sudah melakukan registrasi sebanyak 2.672.662 (81.2%), sedangkan casual sebanyak 620.017 (18.8%)"
      ]
    }
  ],
  "metadata": {
    "colab": {
      "provenance": []
    },
    "kernelspec": {
      "display_name": ".venv",
      "language": "python",
      "name": "python3"
    },
    "language_info": {
      "codemirror_mode": {
        "name": "ipython",
        "version": 3
      },
      "file_extension": ".py",
      "mimetype": "text/x-python",
      "name": "python",
      "nbconvert_exporter": "python",
      "pygments_lexer": "ipython3",
      "version": "3.12.1"
    },
    "orig_nbformat": 4
  },
  "nbformat": 4,
  "nbformat_minor": 0
}
